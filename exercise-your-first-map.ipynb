{
 "cells": [
  {
   "cell_type": "markdown",
   "id": "c0eaa3da",
   "metadata": {
    "papermill": {
     "duration": 0.008125,
     "end_time": "2022-06-01T11:31:03.865681",
     "exception": false,
     "start_time": "2022-06-01T11:31:03.857556",
     "status": "completed"
    },
    "tags": []
   },
   "source": [
    "**This notebook is an exercise in the [Geospatial Analysis](https://www.kaggle.com/learn/geospatial-analysis) course.  You can reference the tutorial at [this link](https://www.kaggle.com/alexisbcook/your-first-map).**\n",
    "\n",
    "---\n"
   ]
  },
  {
   "cell_type": "markdown",
   "id": "de37cbb5",
   "metadata": {
    "papermill": {
     "duration": 0.004443,
     "end_time": "2022-06-01T11:31:03.874664",
     "exception": false,
     "start_time": "2022-06-01T11:31:03.870221",
     "status": "completed"
    },
    "tags": []
   },
   "source": [
    "# Introduction\n",
    "\n",
    "[Kiva.org](https://www.kiva.org/) is an online crowdfunding platform extending financial services to poor people around the world. Kiva lenders have provided over $1 billion dollars in loans to over 2 million people.\n",
    "\n",
    "<center>\n",
    "<img src=\"https://i.imgur.com/2G8C53X.png\" width=\"500\"><br/>\n",
    "</center>\n",
    "\n",
    "Kiva reaches some of the most remote places in the world through their global network of \"Field Partners\". These partners are local organizations working in communities to vet borrowers, provide services, and administer loans.\n",
    "\n",
    "In this exercise, you'll investigate Kiva loans in the Philippines.  Can you identify regions that might be outside of Kiva's current network, in order to identify opportunities for recruiting new Field Partners?\n",
    "\n",
    "To get started, run the code cell below to set up our feedback system."
   ]
  },
  {
   "cell_type": "code",
   "execution_count": 1,
   "id": "f89ab4fe",
   "metadata": {
    "execution": {
     "iopub.execute_input": "2022-06-01T11:31:03.885663Z",
     "iopub.status.busy": "2022-06-01T11:31:03.885130Z",
     "iopub.status.idle": "2022-06-01T11:31:05.825168Z",
     "shell.execute_reply": "2022-06-01T11:31:05.824281Z"
    },
    "papermill": {
     "duration": 1.948724,
     "end_time": "2022-06-01T11:31:05.827877",
     "exception": false,
     "start_time": "2022-06-01T11:31:03.879153",
     "status": "completed"
    },
    "tags": []
   },
   "outputs": [
    {
     "name": "stderr",
     "output_type": "stream",
     "text": [
      "/opt/conda/lib/python3.7/site-packages/geopandas/_compat.py:115: UserWarning: The Shapely GEOS version (3.9.1-CAPI-1.14.2) is incompatible with the GEOS version PyGEOS was compiled with (3.10.1-CAPI-1.16.0). Conversions between both will be slow.\n",
      "  shapely_geos_version, geos_capi_version_string\n"
     ]
    }
   ],
   "source": [
    "import geopandas as gpd\n",
    "\n",
    "from learntools.core import binder\n",
    "binder.bind(globals())\n",
    "from learntools.geospatial.ex1 import *"
   ]
  },
  {
   "cell_type": "markdown",
   "id": "7036f608",
   "metadata": {
    "papermill": {
     "duration": 0.004478,
     "end_time": "2022-06-01T11:31:05.836949",
     "exception": false,
     "start_time": "2022-06-01T11:31:05.832471",
     "status": "completed"
    },
    "tags": []
   },
   "source": [
    "### 1) Get the data.\n",
    "\n",
    "Use the next cell to load the shapefile located at `loans_filepath` to create a GeoDataFrame `world_loans`.  "
   ]
  },
  {
   "cell_type": "code",
   "execution_count": 2,
   "id": "cf39d7f0",
   "metadata": {
    "execution": {
     "iopub.execute_input": "2022-06-01T11:31:05.847623Z",
     "iopub.status.busy": "2022-06-01T11:31:05.847176Z",
     "iopub.status.idle": "2022-06-01T11:31:08.431129Z",
     "shell.execute_reply": "2022-06-01T11:31:08.430259Z"
    },
    "papermill": {
     "duration": 2.593219,
     "end_time": "2022-06-01T11:31:08.434664",
     "exception": false,
     "start_time": "2022-06-01T11:31:05.841445",
     "status": "completed"
    },
    "tags": []
   },
   "outputs": [
    {
     "data": {
      "application/javascript": [
       "parent.postMessage({\"jupyterEvent\": \"custom.exercise_interaction\", \"data\": {\"outcomeType\": 1, \"valueTowardsCompletion\": 0.3333333333333333, \"interactionType\": 1, \"questionType\": 2, \"questionId\": \"1_Q1\", \"learnToolsVersion\": \"0.3.4\", \"failureMessage\": \"\", \"exceptionClass\": \"\", \"trace\": \"\"}}, \"*\")"
      ],
      "text/plain": [
       "<IPython.core.display.Javascript object>"
      ]
     },
     "metadata": {},
     "output_type": "display_data"
    },
    {
     "data": {
      "text/markdown": [
       "<span style=\"color:#33cc33\">Correct</span>"
      ],
      "text/plain": [
       "Correct"
      ]
     },
     "metadata": {},
     "output_type": "display_data"
    }
   ],
   "source": [
    "loans_filepath = \"../input/geospatial-learn-course-data/kiva_loans/kiva_loans/kiva_loans.shp\"\n",
    "\n",
    "# Your code here: Load the data\n",
    "world_loans = gpd.read_file(loans_filepath)\n",
    "\n",
    "# Check your answer\n",
    "q_1.check()\n",
    "\n",
    "# Uncomment to view the first five rows of the data\n",
    "#world_loans.head()"
   ]
  },
  {
   "cell_type": "code",
   "execution_count": 3,
   "id": "19e74ea4",
   "metadata": {
    "execution": {
     "iopub.execute_input": "2022-06-01T11:31:08.445748Z",
     "iopub.status.busy": "2022-06-01T11:31:08.445308Z",
     "iopub.status.idle": "2022-06-01T11:31:08.449515Z",
     "shell.execute_reply": "2022-06-01T11:31:08.448529Z"
    },
    "papermill": {
     "duration": 0.012035,
     "end_time": "2022-06-01T11:31:08.451445",
     "exception": false,
     "start_time": "2022-06-01T11:31:08.439410",
     "status": "completed"
    },
    "tags": []
   },
   "outputs": [],
   "source": [
    "# Lines below will give you a hint or solution code\n",
    "#q_1.hint()\n",
    "#q_1.solution()"
   ]
  },
  {
   "cell_type": "markdown",
   "id": "930098be",
   "metadata": {
    "papermill": {
     "duration": 0.004495,
     "end_time": "2022-06-01T11:31:08.460773",
     "exception": false,
     "start_time": "2022-06-01T11:31:08.456278",
     "status": "completed"
    },
    "tags": []
   },
   "source": [
    "### 2) Plot the data.\n",
    "\n",
    "Run the next code cell without changes to load a GeoDataFrame `world` containing country boundaries."
   ]
  },
  {
   "cell_type": "code",
   "execution_count": 4,
   "id": "b752e1f4",
   "metadata": {
    "execution": {
     "iopub.execute_input": "2022-06-01T11:31:08.472132Z",
     "iopub.status.busy": "2022-06-01T11:31:08.471566Z",
     "iopub.status.idle": "2022-06-01T11:31:08.575490Z",
     "shell.execute_reply": "2022-06-01T11:31:08.574276Z"
    },
    "papermill": {
     "duration": 0.113484,
     "end_time": "2022-06-01T11:31:08.579041",
     "exception": false,
     "start_time": "2022-06-01T11:31:08.465557",
     "status": "completed"
    },
    "tags": []
   },
   "outputs": [
    {
     "data": {
      "text/html": [
       "<div>\n",
       "<style scoped>\n",
       "    .dataframe tbody tr th:only-of-type {\n",
       "        vertical-align: middle;\n",
       "    }\n",
       "\n",
       "    .dataframe tbody tr th {\n",
       "        vertical-align: top;\n",
       "    }\n",
       "\n",
       "    .dataframe thead th {\n",
       "        text-align: right;\n",
       "    }\n",
       "</style>\n",
       "<table border=\"1\" class=\"dataframe\">\n",
       "  <thead>\n",
       "    <tr style=\"text-align: right;\">\n",
       "      <th></th>\n",
       "      <th>pop_est</th>\n",
       "      <th>continent</th>\n",
       "      <th>name</th>\n",
       "      <th>iso_a3</th>\n",
       "      <th>gdp_md_est</th>\n",
       "      <th>geometry</th>\n",
       "    </tr>\n",
       "  </thead>\n",
       "  <tbody>\n",
       "    <tr>\n",
       "      <th>0</th>\n",
       "      <td>920938</td>\n",
       "      <td>Oceania</td>\n",
       "      <td>Fiji</td>\n",
       "      <td>FJI</td>\n",
       "      <td>8374.0</td>\n",
       "      <td>MULTIPOLYGON (((180.00000 -16.06713, 180.00000...</td>\n",
       "    </tr>\n",
       "    <tr>\n",
       "      <th>1</th>\n",
       "      <td>53950935</td>\n",
       "      <td>Africa</td>\n",
       "      <td>Tanzania</td>\n",
       "      <td>TZA</td>\n",
       "      <td>150600.0</td>\n",
       "      <td>POLYGON ((33.90371 -0.95000, 34.07262 -1.05982...</td>\n",
       "    </tr>\n",
       "    <tr>\n",
       "      <th>2</th>\n",
       "      <td>603253</td>\n",
       "      <td>Africa</td>\n",
       "      <td>W. Sahara</td>\n",
       "      <td>ESH</td>\n",
       "      <td>906.5</td>\n",
       "      <td>POLYGON ((-8.66559 27.65643, -8.66512 27.58948...</td>\n",
       "    </tr>\n",
       "    <tr>\n",
       "      <th>3</th>\n",
       "      <td>35623680</td>\n",
       "      <td>North America</td>\n",
       "      <td>Canada</td>\n",
       "      <td>CAN</td>\n",
       "      <td>1674000.0</td>\n",
       "      <td>MULTIPOLYGON (((-122.84000 49.00000, -122.9742...</td>\n",
       "    </tr>\n",
       "    <tr>\n",
       "      <th>4</th>\n",
       "      <td>326625791</td>\n",
       "      <td>North America</td>\n",
       "      <td>United States of America</td>\n",
       "      <td>USA</td>\n",
       "      <td>18560000.0</td>\n",
       "      <td>MULTIPOLYGON (((-122.84000 49.00000, -120.0000...</td>\n",
       "    </tr>\n",
       "  </tbody>\n",
       "</table>\n",
       "</div>"
      ],
      "text/plain": [
       "     pop_est      continent                      name iso_a3  gdp_md_est  \\\n",
       "0     920938        Oceania                      Fiji    FJI      8374.0   \n",
       "1   53950935         Africa                  Tanzania    TZA    150600.0   \n",
       "2     603253         Africa                 W. Sahara    ESH       906.5   \n",
       "3   35623680  North America                    Canada    CAN   1674000.0   \n",
       "4  326625791  North America  United States of America    USA  18560000.0   \n",
       "\n",
       "                                            geometry  \n",
       "0  MULTIPOLYGON (((180.00000 -16.06713, 180.00000...  \n",
       "1  POLYGON ((33.90371 -0.95000, 34.07262 -1.05982...  \n",
       "2  POLYGON ((-8.66559 27.65643, -8.66512 27.58948...  \n",
       "3  MULTIPOLYGON (((-122.84000 49.00000, -122.9742...  \n",
       "4  MULTIPOLYGON (((-122.84000 49.00000, -120.0000...  "
      ]
     },
     "execution_count": 4,
     "metadata": {},
     "output_type": "execute_result"
    }
   ],
   "source": [
    "# This dataset is provided in GeoPandas\n",
    "world_filepath = gpd.datasets.get_path('naturalearth_lowres')\n",
    "world = gpd.read_file(world_filepath)\n",
    "world.head()"
   ]
  },
  {
   "cell_type": "markdown",
   "id": "6e1134d7",
   "metadata": {
    "papermill": {
     "duration": 0.005327,
     "end_time": "2022-06-01T11:31:08.590709",
     "exception": false,
     "start_time": "2022-06-01T11:31:08.585382",
     "status": "completed"
    },
    "tags": []
   },
   "source": [
    "Use the `world` and `world_loans` GeoDataFrames to visualize Kiva loan locations across the world."
   ]
  },
  {
   "cell_type": "code",
   "execution_count": 5,
   "id": "92cd4ced",
   "metadata": {
    "execution": {
     "iopub.execute_input": "2022-06-01T11:31:08.603256Z",
     "iopub.status.busy": "2022-06-01T11:31:08.602462Z",
     "iopub.status.idle": "2022-06-01T11:31:10.873979Z",
     "shell.execute_reply": "2022-06-01T11:31:10.873055Z"
    },
    "papermill": {
     "duration": 2.280388,
     "end_time": "2022-06-01T11:31:10.876190",
     "exception": false,
     "start_time": "2022-06-01T11:31:08.595802",
     "status": "completed"
    },
    "tags": []
   },
   "outputs": [
    {
     "data": {
      "application/javascript": [
       "parent.postMessage({\"jupyterEvent\": \"custom.exercise_interaction\", \"data\": {\"outcomeType\": 1, \"valueTowardsCompletion\": 0.3333333333333333, \"interactionType\": 1, \"questionType\": 2, \"questionId\": \"2_Q2\", \"learnToolsVersion\": \"0.3.4\", \"failureMessage\": \"\", \"exceptionClass\": \"\", \"trace\": \"\"}}, \"*\")"
      ],
      "text/plain": [
       "<IPython.core.display.Javascript object>"
      ]
     },
     "metadata": {},
     "output_type": "display_data"
    },
    {
     "data": {
      "text/markdown": [
       "<span style=\"color:#33cc33\">Thank you for creating a map!</span>"
      ],
      "text/plain": [
       "Thank you for creating a map!"
      ]
     },
     "metadata": {},
     "output_type": "display_data"
    },
    {
     "data": {
      "image/png": "[encoded data removed]",
      "text/plain": [
       "<Figure size 720x720 with 1 Axes>"
      ]
     },
     "metadata": {
      "needs_background": "light"
     },
     "output_type": "display_data"
    }
   ],
   "source": [
    "# Your code here\n",
    "ax = world.plot(figsize=(10,10), color='none', edgecolor='gainsboro', zorder=3)\n",
    "\n",
    "world_loans.plot(color='lightgreen', ax=ax)\n",
    "\n",
    "# Uncomment to see a hint\n",
    "q_2.check()"
   ]
  },
  {
   "cell_type": "code",
   "execution_count": 6,
   "id": "2538fa61",
   "metadata": {
    "execution": {
     "iopub.execute_input": "2022-06-01T11:31:10.891015Z",
     "iopub.status.busy": "2022-06-01T11:31:10.890361Z",
     "iopub.status.idle": "2022-06-01T11:31:10.902887Z",
     "shell.execute_reply": "2022-06-01T11:31:10.901826Z"
    },
    "papermill": {
     "duration": 0.022435,
     "end_time": "2022-06-01T11:31:10.904863",
     "exception": false,
     "start_time": "2022-06-01T11:31:10.882428",
     "status": "completed"
    },
    "tags": []
   },
   "outputs": [
    {
     "data": {
      "application/javascript": [
       "parent.postMessage({\"jupyterEvent\": \"custom.exercise_interaction\", \"data\": {\"interactionType\": 2, \"questionType\": 2, \"questionId\": \"2_Q2\", \"learnToolsVersion\": \"0.3.4\", \"valueTowardsCompletion\": 0.0, \"failureMessage\": \"\", \"exceptionClass\": \"\", \"trace\": \"\", \"outcomeType\": 4}}, \"*\")"
      ],
      "text/plain": [
       "<IPython.core.display.Javascript object>"
      ]
     },
     "metadata": {},
     "output_type": "display_data"
    },
    {
     "data": {
      "text/markdown": [
       "<span style=\"color:#3366cc\">Hint:</span> Use the `plot()` method of each GeoDataFrame."
      ],
      "text/plain": [
       "Hint: Use the `plot()` method of each GeoDataFrame."
      ]
     },
     "metadata": {},
     "output_type": "display_data"
    },
    {
     "data": {
      "application/javascript": [
       "parent.postMessage({\"jupyterEvent\": \"custom.exercise_interaction\", \"data\": {\"outcomeType\": 1, \"valueTowardsCompletion\": 0.3333333333333333, \"interactionType\": 1, \"questionType\": 2, \"questionId\": \"2_Q2\", \"learnToolsVersion\": \"0.3.4\", \"failureMessage\": \"\", \"exceptionClass\": \"\", \"trace\": \"\"}}, \"*\")"
      ],
      "text/plain": [
       "<IPython.core.display.Javascript object>"
      ]
     },
     "metadata": {},
     "output_type": "display_data"
    },
    {
     "data": {
      "text/markdown": [
       "<span style=\"color:#33cc33\">Thank you for creating a map!</span>"
      ],
      "text/plain": [
       "Thank you for creating a map!"
      ]
     },
     "metadata": {},
     "output_type": "display_data"
    }
   ],
   "source": [
    "q_2.hint()\n",
    "# Get credit for your work after you have created a map\n",
    "q_2.check()\n",
    "\n",
    "# Uncomment to see our solution (your code may look different!)\n",
    "#q_2.solution()\n"
   ]
  },
  {
   "cell_type": "markdown",
   "id": "b34afe97",
   "metadata": {
    "papermill": {
     "duration": 0.005984,
     "end_time": "2022-06-01T11:31:10.917441",
     "exception": false,
     "start_time": "2022-06-01T11:31:10.911457",
     "status": "completed"
    },
    "tags": []
   },
   "source": [
    "### 3) Select loans based in the Philippines.\n",
    "\n",
    "Next, you'll focus on loans that are based in the Philippines.  Use the next code cell to create a GeoDataFrame `PHL_loans` which contains all rows from `world_loans` with loans that are based in the Philippines."
   ]
  },
  {
   "cell_type": "code",
   "execution_count": 7,
   "id": "c4e82067",
   "metadata": {
    "execution": {
     "iopub.execute_input": "2022-06-01T11:31:10.932420Z",
     "iopub.status.busy": "2022-06-01T11:31:10.931296Z",
     "iopub.status.idle": "2022-06-01T11:31:11.330046Z",
     "shell.execute_reply": "2022-06-01T11:31:11.328982Z"
    },
    "papermill": {
     "duration": 0.408699,
     "end_time": "2022-06-01T11:31:11.332500",
     "exception": false,
     "start_time": "2022-06-01T11:31:10.923801",
     "status": "completed"
    },
    "tags": []
   },
   "outputs": [
    {
     "data": {
      "application/javascript": [
       "parent.postMessage({\"jupyterEvent\": \"custom.exercise_interaction\", \"data\": {\"outcomeType\": 1, \"valueTowardsCompletion\": 0.3333333333333333, \"interactionType\": 1, \"questionType\": 2, \"questionId\": \"3_Q3\", \"learnToolsVersion\": \"0.3.4\", \"failureMessage\": \"\", \"exceptionClass\": \"\", \"trace\": \"\"}}, \"*\")"
      ],
      "text/plain": [
       "<IPython.core.display.Javascript object>"
      ]
     },
     "metadata": {},
     "output_type": "display_data"
    },
    {
     "data": {
      "text/markdown": [
       "<span style=\"color:#33cc33\">Correct</span>"
      ],
      "text/plain": [
       "Correct"
      ]
     },
     "metadata": {},
     "output_type": "display_data"
    }
   ],
   "source": [
    "# Your code here\n",
    "PHL_loans = world_loans.loc[world_loans.country==\"Philippines\"].copy()\n",
    "\n",
    "# Check your answer\n",
    "q_3.check()"
   ]
  },
  {
   "cell_type": "code",
   "execution_count": 8,
   "id": "801295f9",
   "metadata": {
    "execution": {
     "iopub.execute_input": "2022-06-01T11:31:11.348162Z",
     "iopub.status.busy": "2022-06-01T11:31:11.347288Z",
     "iopub.status.idle": "2022-06-01T11:31:11.360061Z",
     "shell.execute_reply": "2022-06-01T11:31:11.358977Z"
    },
    "papermill": {
     "duration": 0.022675,
     "end_time": "2022-06-01T11:31:11.361947",
     "exception": false,
     "start_time": "2022-06-01T11:31:11.339272",
     "status": "completed"
    },
    "tags": []
   },
   "outputs": [
    {
     "data": {
      "application/javascript": [
       "parent.postMessage({\"jupyterEvent\": \"custom.exercise_interaction\", \"data\": {\"interactionType\": 2, \"questionType\": 2, \"questionId\": \"3_Q3\", \"learnToolsVersion\": \"0.3.4\", \"valueTowardsCompletion\": 0.0, \"failureMessage\": \"\", \"exceptionClass\": \"\", \"trace\": \"\", \"outcomeType\": 4}}, \"*\")"
      ],
      "text/plain": [
       "<IPython.core.display.Javascript object>"
      ]
     },
     "metadata": {},
     "output_type": "display_data"
    },
    {
     "data": {
      "text/markdown": [
       "<span style=\"color:#3366cc\">Hint:</span> Check out [this tutorial](https://www.kaggle.com/residentmario/indexing-selecting-assigning/), if you need to review conditional selection for DataFrames (and GeoDataFrames)."
      ],
      "text/plain": [
       "Hint: Check out [this tutorial](https://www.kaggle.com/residentmario/indexing-selecting-assigning/), if you need to review conditional selection for DataFrames (and GeoDataFrames)."
      ]
     },
     "metadata": {},
     "output_type": "display_data"
    },
    {
     "data": {
      "application/javascript": [
       "parent.postMessage({\"jupyterEvent\": \"custom.exercise_interaction\", \"data\": {\"interactionType\": 3, \"questionType\": 2, \"questionId\": \"3_Q3\", \"learnToolsVersion\": \"0.3.4\", \"valueTowardsCompletion\": 0.0, \"failureMessage\": \"\", \"exceptionClass\": \"\", \"trace\": \"\", \"outcomeType\": 4}}, \"*\")"
      ],
      "text/plain": [
       "<IPython.core.display.Javascript object>"
      ]
     },
     "metadata": {},
     "output_type": "display_data"
    },
    {
     "data": {
      "text/markdown": [
       "<span style=\"color:#33cc99\">Solution:</span> \n",
       "```python\n",
       "PHL_loans = world_loans.loc[world_loans.country==\"Philippines\"].copy()\n",
       "\n",
       "```"
      ],
      "text/plain": [
       "Solution: \n",
       "```python\n",
       "PHL_loans = world_loans.loc[world_loans.country==\"Philippines\"].copy()\n",
       "\n",
       "```"
      ]
     },
     "metadata": {},
     "output_type": "display_data"
    }
   ],
   "source": [
    "# Lines below will give you a hint or solution code\n",
    "q_3.hint()\n",
    "q_3.solution()"
   ]
  },
  {
   "cell_type": "markdown",
   "id": "794702a2",
   "metadata": {
    "papermill": {
     "duration": 0.006904,
     "end_time": "2022-06-01T11:31:11.375961",
     "exception": false,
     "start_time": "2022-06-01T11:31:11.369057",
     "status": "completed"
    },
    "tags": []
   },
   "source": [
    "### 4) Understand loans in the Philippines.\n",
    "\n",
    "Run the next code cell without changes to load a GeoDataFrame `PHL` containing boundaries for all islands in the Philippines."
   ]
  },
  {
   "cell_type": "code",
   "execution_count": 9,
   "id": "773506e6",
   "metadata": {
    "execution": {
     "iopub.execute_input": "2022-06-01T11:31:11.392017Z",
     "iopub.status.busy": "2022-06-01T11:31:11.391406Z",
     "iopub.status.idle": "2022-06-01T11:31:15.873814Z",
     "shell.execute_reply": "2022-06-01T11:31:15.872588Z"
    },
    "papermill": {
     "duration": 4.493179,
     "end_time": "2022-06-01T11:31:15.876190",
     "exception": false,
     "start_time": "2022-06-01T11:31:11.383011",
     "status": "completed"
    },
    "tags": []
   },
   "outputs": [
    {
     "data": {
      "text/html": [
       "<div>\n",
       "<style scoped>\n",
       "    .dataframe tbody tr th:only-of-type {\n",
       "        vertical-align: middle;\n",
       "    }\n",
       "\n",
       "    .dataframe tbody tr th {\n",
       "        vertical-align: top;\n",
       "    }\n",
       "\n",
       "    .dataframe thead th {\n",
       "        text-align: right;\n",
       "    }\n",
       "</style>\n",
       "<table border=\"1\" class=\"dataframe\">\n",
       "  <thead>\n",
       "    <tr style=\"text-align: right;\">\n",
       "      <th></th>\n",
       "      <th>Name</th>\n",
       "      <th>Description</th>\n",
       "      <th>geometry</th>\n",
       "    </tr>\n",
       "  </thead>\n",
       "  <tbody>\n",
       "    <tr>\n",
       "      <th>0</th>\n",
       "      <td>Autonomous Region in Muslim Mindanao</td>\n",
       "      <td></td>\n",
       "      <td>MULTIPOLYGON (((119.46690 4.58718, 119.46653 4...</td>\n",
       "    </tr>\n",
       "    <tr>\n",
       "      <th>1</th>\n",
       "      <td>Bicol Region</td>\n",
       "      <td></td>\n",
       "      <td>MULTIPOLYGON (((124.04577 11.57862, 124.04594 ...</td>\n",
       "    </tr>\n",
       "    <tr>\n",
       "      <th>2</th>\n",
       "      <td>Cagayan Valley</td>\n",
       "      <td></td>\n",
       "      <td>MULTIPOLYGON (((122.51581 17.04436, 122.51568 ...</td>\n",
       "    </tr>\n",
       "    <tr>\n",
       "      <th>3</th>\n",
       "      <td>Calabarzon</td>\n",
       "      <td></td>\n",
       "      <td>MULTIPOLYGON (((120.49202 14.05403, 120.49201 ...</td>\n",
       "    </tr>\n",
       "    <tr>\n",
       "      <th>4</th>\n",
       "      <td>Caraga</td>\n",
       "      <td></td>\n",
       "      <td>MULTIPOLYGON (((126.45401 8.24400, 126.45407 8...</td>\n",
       "    </tr>\n",
       "  </tbody>\n",
       "</table>\n",
       "</div>"
      ],
      "text/plain": [
       "                                   Name Description  \\\n",
       "0  Autonomous Region in Muslim Mindanao               \n",
       "1                          Bicol Region               \n",
       "2                        Cagayan Valley               \n",
       "3                            Calabarzon               \n",
       "4                                Caraga               \n",
       "\n",
       "                                            geometry  \n",
       "0  MULTIPOLYGON (((119.46690 4.58718, 119.46653 4...  \n",
       "1  MULTIPOLYGON (((124.04577 11.57862, 124.04594 ...  \n",
       "2  MULTIPOLYGON (((122.51581 17.04436, 122.51568 ...  \n",
       "3  MULTIPOLYGON (((120.49202 14.05403, 120.49201 ...  \n",
       "4  MULTIPOLYGON (((126.45401 8.24400, 126.45407 8...  "
      ]
     },
     "execution_count": 9,
     "metadata": {},
     "output_type": "execute_result"
    }
   ],
   "source": [
    "# Load a KML file containing island boundaries\n",
    "gpd.io.file.fiona.drvsupport.supported_drivers['KML'] = 'rw'\n",
    "PHL = gpd.read_file(\"../input/geospatial-learn-course-data/Philippines_AL258.kml\", driver='KML')\n",
    "PHL.head()"
   ]
  },
  {
   "cell_type": "markdown",
   "id": "2d0f8804",
   "metadata": {
    "papermill": {
     "duration": 0.009053,
     "end_time": "2022-06-01T11:31:15.893080",
     "exception": false,
     "start_time": "2022-06-01T11:31:15.884027",
     "status": "completed"
    },
    "tags": []
   },
   "source": [
    "Use the `PHL` and `PHL_loans` GeoDataFrames to visualize loans in the Philippines."
   ]
  },
  {
   "cell_type": "code",
   "execution_count": 10,
   "id": "244c458d",
   "metadata": {
    "execution": {
     "iopub.execute_input": "2022-06-01T11:31:15.910841Z",
     "iopub.status.busy": "2022-06-01T11:31:15.910309Z",
     "iopub.status.idle": "2022-06-01T11:31:18.989310Z",
     "shell.execute_reply": "2022-06-01T11:31:18.988299Z"
    },
    "papermill": {
     "duration": 3.090047,
     "end_time": "2022-06-01T11:31:18.991340",
     "exception": false,
     "start_time": "2022-06-01T11:31:15.901293",
     "status": "completed"
    },
    "tags": []
   },
   "outputs": [
    {
     "data": {
      "text/plain": [
       "<AxesSubplot:>"
      ]
     },
     "execution_count": 10,
     "metadata": {},
     "output_type": "execute_result"
    },
    {
     "data": {
      "image/png": "[encoded data removed]",
      "text/plain": [
       "<Figure size 360x1440 with 1 Axes>"
      ]
     },
     "metadata": {
      "needs_background": "light"
     },
     "output_type": "display_data"
    }
   ],
   "source": [
    "# Your code here\n",
    "ax = PHL.plot(figsize=(5,20), color='none',edgecolor='gainsboro', zorder=3)\n",
    "PHL_loans.plot(color='lightgreen', ax=ax)\n",
    "\n",
    "# Uncomment to see a hint\n",
    "#q_4.a.hint()"
   ]
  },
  {
   "cell_type": "code",
   "execution_count": 11,
   "id": "1ffbe2a9",
   "metadata": {
    "execution": {
     "iopub.execute_input": "2022-06-01T11:31:19.009808Z",
     "iopub.status.busy": "2022-06-01T11:31:19.008837Z",
     "iopub.status.idle": "2022-06-01T11:31:19.016813Z",
     "shell.execute_reply": "2022-06-01T11:31:19.015804Z"
    },
    "papermill": {
     "duration": 0.019223,
     "end_time": "2022-06-01T11:31:19.018722",
     "exception": false,
     "start_time": "2022-06-01T11:31:18.999499",
     "status": "completed"
    },
    "tags": []
   },
   "outputs": [
    {
     "data": {
      "application/javascript": [
       "parent.postMessage({\"jupyterEvent\": \"custom.exercise_interaction\", \"data\": {\"outcomeType\": 1, \"valueTowardsCompletion\": 0.3333333333333333, \"interactionType\": 1, \"questionType\": 2, \"questionId\": \"4.1_Q4P\", \"learnToolsVersion\": \"0.3.4\", \"failureMessage\": \"\", \"exceptionClass\": \"\", \"trace\": \"\"}}, \"*\")"
      ],
      "text/plain": [
       "<IPython.core.display.Javascript object>"
      ]
     },
     "metadata": {},
     "output_type": "display_data"
    },
    {
     "data": {
      "text/markdown": [
       "<span style=\"color:#33cc33\">Thank you for creating a map!</span>"
      ],
      "text/plain": [
       "Thank you for creating a map!"
      ]
     },
     "metadata": {},
     "output_type": "display_data"
    }
   ],
   "source": [
    "# Get credit for your work after you have created a map\n",
    "q_4.a.check()\n",
    "\n",
    "# Uncomment to see our solution (your code may look different!)\n",
    "#q_4.a.solution()"
   ]
  },
  {
   "cell_type": "markdown",
   "id": "28794b3d",
   "metadata": {
    "papermill": {
     "duration": 0.008382,
     "end_time": "2022-06-01T11:31:19.035651",
     "exception": false,
     "start_time": "2022-06-01T11:31:19.027269",
     "status": "completed"
    },
    "tags": []
   },
   "source": [
    "Can you identify any islands where it might be useful to recruit new Field Partners?  Do any islands currently look outside of Kiva's reach?\n",
    "\n",
    "You might find [this map](https://bit.ly/2U2G7x7) useful to answer the question."
   ]
  },
  {
   "cell_type": "code",
   "execution_count": 12,
   "id": "71aec720",
   "metadata": {
    "execution": {
     "iopub.execute_input": "2022-06-01T11:31:19.054834Z",
     "iopub.status.busy": "2022-06-01T11:31:19.054375Z",
     "iopub.status.idle": "2022-06-01T11:31:19.062678Z",
     "shell.execute_reply": "2022-06-01T11:31:19.061654Z"
    },
    "papermill": {
     "duration": 0.019966,
     "end_time": "2022-06-01T11:31:19.064653",
     "exception": false,
     "start_time": "2022-06-01T11:31:19.044687",
     "status": "completed"
    },
    "tags": []
   },
   "outputs": [
    {
     "data": {
      "application/javascript": [
       "parent.postMessage({\"jupyterEvent\": \"custom.exercise_interaction\", \"data\": {\"interactionType\": 3, \"questionType\": 4, \"questionId\": \"4.2_Q4T\", \"learnToolsVersion\": \"0.3.4\", \"valueTowardsCompletion\": 0.0, \"failureMessage\": \"\", \"exceptionClass\": \"\", \"trace\": \"\", \"outcomeType\": 4}}, \"*\")"
      ],
      "text/plain": [
       "<IPython.core.display.Javascript object>"
      ]
     },
     "metadata": {},
     "output_type": "display_data"
    },
    {
     "data": {
      "text/markdown": [
       "<span style=\"color:#33cc99\">Solution:</span> There are a number of potential islands, but **Mindoro** (in the central part of the Philippines) stands out as a relatively large island without any loans in the current dataset.  This island is potentially a good location for recruiting new Field Partners!"
      ],
      "text/plain": [
       "Solution: There are a number of potential islands, but **Mindoro** (in the central part of the Philippines) stands out as a relatively large island without any loans in the current dataset.  This island is potentially a good location for recruiting new Field Partners!"
      ]
     },
     "metadata": {},
     "output_type": "display_data"
    }
   ],
   "source": [
    "# View the solution (Run this code cell to receive credit!)\n",
    "q_4.b.solution()"
   ]
  },
  {
   "cell_type": "markdown",
   "id": "25f81326",
   "metadata": {
    "papermill": {
     "duration": 0.008682,
     "end_time": "2022-06-01T11:31:19.082001",
     "exception": false,
     "start_time": "2022-06-01T11:31:19.073319",
     "status": "completed"
    },
    "tags": []
   },
   "source": [
    "# Keep going\n",
    "\n",
    "Continue to learn about **[coordinate reference systems](https://www.kaggle.com/alexisbcook/coordinate-reference-systems)**."
   ]
  }
 ],
 "metadata": {
  "kernelspec": {
   "display_name": "Python 3",
   "language": "python",
   "name": "python3"
  },
  "language_info": {
   "codemirror_mode": {
    "name": "ipython",
    "version": 3
   },
   "file_extension": ".py",
   "mimetype": "text/x-python",
   "name": "python",
   "nbconvert_exporter": "python",
   "pygments_lexer": "ipython3",
   "version": "3.7.12"
  },
  "papermill": {
   "default_parameters": {},
   "duration": 25.444181,
   "end_time": "2022-06-01T11:31:20.014856",
   "environment_variables": {},
   "exception": null,
   "input_path": "__notebook__.ipynb",
   "output_path": "__notebook__.ipynb",
   "parameters": {},
   "start_time": "2022-06-01T11:30:54.570675",
   "version": "2.3.4"
  }
 },
 "nbformat": 4,
 "nbformat_minor": 5
}
