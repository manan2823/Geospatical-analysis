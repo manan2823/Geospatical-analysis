{
 "cells": [
  {
   "cell_type": "markdown",
   "id": "d10a5c22",
   "metadata": {
    "papermill": {
     "duration": 0.010523,
     "end_time": "2022-06-01T11:35:02.999181",
     "exception": false,
     "start_time": "2022-06-01T11:35:02.988658",
     "status": "completed"
    },
    "tags": []
   },
   "source": [
    "**This notebook is an exercise in the [Geospatial Analysis](https://www.kaggle.com/learn/geospatial-analysis) course.  You can reference the tutorial at [this link](https://www.kaggle.com/alexisbcook/manipulating-geospatial-data).**\n",
    "\n",
    "---\n"
   ]
  },
  {
   "cell_type": "markdown",
   "id": "ae993ff2",
   "metadata": {
    "papermill": {
     "duration": 0.009195,
     "end_time": "2022-06-01T11:35:03.019678",
     "exception": false,
     "start_time": "2022-06-01T11:35:03.010483",
     "status": "completed"
    },
    "tags": []
   },
   "source": [
    "# Introduction\n",
    "\n",
    "You are a Starbucks big data analyst ([that’s a real job!](https://www.forbes.com/sites/bernardmarr/2018/05/28/starbucks-using-big-data-analytics-and-artificial-intelligence-to-boost-performance/#130c7d765cdc)) looking to find the next store into a [Starbucks Reserve Roastery](https://www.businessinsider.com/starbucks-reserve-roastery-compared-regular-starbucks-2018-12#also-on-the-first-floor-was-the-main-coffee-bar-five-hourglass-like-units-hold-the-freshly-roasted-coffee-beans-that-are-used-in-each-order-the-selection-rotates-seasonally-5).  These roasteries are much larger than a typical Starbucks store and have several additional features, including various food and wine options, along with upscale lounge areas.  You'll investigate the demographics of various counties in the state of California, to determine potentially suitable locations.\n",
    "\n",
    "<center>\n",
    "<img src=\"https://i.imgur.com/BIyE6kR.png\" width=\"450\"><br/><br/>\n",
    "</center>\n",
    "\n",
    "Before you get started, run the code cell below to set everything up."
   ]
  },
  {
   "cell_type": "code",
   "execution_count": 1,
   "id": "654e0c4f",
   "metadata": {
    "execution": {
     "iopub.execute_input": "2022-06-01T11:35:03.041319Z",
     "iopub.status.busy": "2022-06-01T11:35:03.040383Z",
     "iopub.status.idle": "2022-06-01T11:35:05.295990Z",
     "shell.execute_reply": "2022-06-01T11:35:05.294906Z"
    },
    "papermill": {
     "duration": 2.269707,
     "end_time": "2022-06-01T11:35:05.298925",
     "exception": false,
     "start_time": "2022-06-01T11:35:03.029218",
     "status": "completed"
    },
    "tags": []
   },
   "outputs": [
    {
     "name": "stderr",
     "output_type": "stream",
     "text": [
      "/opt/conda/lib/python3.7/site-packages/geopandas/_compat.py:115: UserWarning: The Shapely GEOS version (3.9.1-CAPI-1.14.2) is incompatible with the GEOS version PyGEOS was compiled with (3.10.1-CAPI-1.16.0). Conversions between both will be slow.\n",
      "  shapely_geos_version, geos_capi_version_string\n"
     ]
    }
   ],
   "source": [
    "import math\n",
    "import pandas as pd\n",
    "import geopandas as gpd\n",
    "#from geopy.geocoders import Nominatim            # What you'd normally run\n",
    "from learntools.geospatial.tools import Nominatim # Just for this exercise\n",
    "\n",
    "import folium \n",
    "from folium import Marker\n",
    "from folium.plugins import MarkerCluster\n",
    "\n",
    "from learntools.core import binder\n",
    "binder.bind(globals())\n",
    "from learntools.geospatial.ex4 import *"
   ]
  },
  {
   "cell_type": "markdown",
   "id": "7f7676e7",
   "metadata": {
    "papermill": {
     "duration": 0.009783,
     "end_time": "2022-06-01T11:35:05.319204",
     "exception": false,
     "start_time": "2022-06-01T11:35:05.309421",
     "status": "completed"
    },
    "tags": []
   },
   "source": [
    "You'll use the `embed_map()` function from the previous exercise to visualize your maps."
   ]
  },
  {
   "cell_type": "code",
   "execution_count": 2,
   "id": "85b655e7",
   "metadata": {
    "execution": {
     "iopub.execute_input": "2022-06-01T11:35:05.340443Z",
     "iopub.status.busy": "2022-06-01T11:35:05.340058Z",
     "iopub.status.idle": "2022-06-01T11:35:05.344985Z",
     "shell.execute_reply": "2022-06-01T11:35:05.344056Z"
    },
    "papermill": {
     "duration": 0.017733,
     "end_time": "2022-06-01T11:35:05.347021",
     "exception": false,
     "start_time": "2022-06-01T11:35:05.329288",
     "status": "completed"
    },
    "tags": []
   },
   "outputs": [],
   "source": [
    "def embed_map(m, file_name):\n",
    "    from IPython.display import IFrame\n",
    "    m.save(file_name)\n",
    "    return IFrame(file_name, width='100%', height='500px')"
   ]
  },
  {
   "cell_type": "markdown",
   "id": "8452d436",
   "metadata": {
    "papermill": {
     "duration": 0.009581,
     "end_time": "2022-06-01T11:35:05.366361",
     "exception": false,
     "start_time": "2022-06-01T11:35:05.356780",
     "status": "completed"
    },
    "tags": []
   },
   "source": [
    "# Exercises\n",
    "\n",
    "### 1) Geocode the missing locations.\n",
    "\n",
    "Run the next code cell to create a DataFrame `starbucks` containing Starbucks locations in the state of California."
   ]
  },
  {
   "cell_type": "code",
   "execution_count": 3,
   "id": "2fda0b4e",
   "metadata": {
    "execution": {
     "iopub.execute_input": "2022-06-01T11:35:05.387033Z",
     "iopub.status.busy": "2022-06-01T11:35:05.386593Z",
     "iopub.status.idle": "2022-06-01T11:35:05.417856Z",
     "shell.execute_reply": "2022-06-01T11:35:05.416949Z"
    },
    "papermill": {
     "duration": 0.044046,
     "end_time": "2022-06-01T11:35:05.420121",
     "exception": false,
     "start_time": "2022-06-01T11:35:05.376075",
     "status": "completed"
    },
    "tags": []
   },
   "outputs": [
    {
     "data": {
      "text/html": [
       "<div>\n",
       "<style scoped>\n",
       "    .dataframe tbody tr th:only-of-type {\n",
       "        vertical-align: middle;\n",
       "    }\n",
       "\n",
       "    .dataframe tbody tr th {\n",
       "        vertical-align: top;\n",
       "    }\n",
       "\n",
       "    .dataframe thead th {\n",
       "        text-align: right;\n",
       "    }\n",
       "</style>\n",
       "<table border=\"1\" class=\"dataframe\">\n",
       "  <thead>\n",
       "    <tr style=\"text-align: right;\">\n",
       "      <th></th>\n",
       "      <th>Store Number</th>\n",
       "      <th>Store Name</th>\n",
       "      <th>Address</th>\n",
       "      <th>City</th>\n",
       "      <th>Longitude</th>\n",
       "      <th>Latitude</th>\n",
       "    </tr>\n",
       "  </thead>\n",
       "  <tbody>\n",
       "    <tr>\n",
       "      <th>0</th>\n",
       "      <td>10429-100710</td>\n",
       "      <td>Palmdale &amp; Hwy 395</td>\n",
       "      <td>14136 US Hwy 395 Adelanto CA</td>\n",
       "      <td>Adelanto</td>\n",
       "      <td>-117.40</td>\n",
       "      <td>34.51</td>\n",
       "    </tr>\n",
       "    <tr>\n",
       "      <th>1</th>\n",
       "      <td>635-352</td>\n",
       "      <td>Kanan &amp; Thousand Oaks</td>\n",
       "      <td>5827 Kanan Road Agoura CA</td>\n",
       "      <td>Agoura</td>\n",
       "      <td>-118.76</td>\n",
       "      <td>34.16</td>\n",
       "    </tr>\n",
       "    <tr>\n",
       "      <th>2</th>\n",
       "      <td>74510-27669</td>\n",
       "      <td>Vons-Agoura Hills #2001</td>\n",
       "      <td>5671 Kanan Rd. Agoura Hills CA</td>\n",
       "      <td>Agoura Hills</td>\n",
       "      <td>-118.76</td>\n",
       "      <td>34.15</td>\n",
       "    </tr>\n",
       "    <tr>\n",
       "      <th>3</th>\n",
       "      <td>29839-255026</td>\n",
       "      <td>Target Anaheim T-0677</td>\n",
       "      <td>8148 E SANTA ANA CANYON ROAD AHAHEIM CA</td>\n",
       "      <td>AHAHEIM</td>\n",
       "      <td>-117.75</td>\n",
       "      <td>33.87</td>\n",
       "    </tr>\n",
       "    <tr>\n",
       "      <th>4</th>\n",
       "      <td>23463-230284</td>\n",
       "      <td>Safeway - Alameda 3281</td>\n",
       "      <td>2600 5th Street Alameda CA</td>\n",
       "      <td>Alameda</td>\n",
       "      <td>-122.28</td>\n",
       "      <td>37.79</td>\n",
       "    </tr>\n",
       "  </tbody>\n",
       "</table>\n",
       "</div>"
      ],
      "text/plain": [
       "   Store Number               Store Name  \\\n",
       "0  10429-100710       Palmdale & Hwy 395   \n",
       "1       635-352    Kanan & Thousand Oaks   \n",
       "2   74510-27669  Vons-Agoura Hills #2001   \n",
       "3  29839-255026    Target Anaheim T-0677   \n",
       "4  23463-230284   Safeway - Alameda 3281   \n",
       "\n",
       "                                   Address          City  Longitude  Latitude  \n",
       "0             14136 US Hwy 395 Adelanto CA      Adelanto    -117.40     34.51  \n",
       "1                5827 Kanan Road Agoura CA        Agoura    -118.76     34.16  \n",
       "2           5671 Kanan Rd. Agoura Hills CA  Agoura Hills    -118.76     34.15  \n",
       "3  8148 E SANTA ANA CANYON ROAD AHAHEIM CA       AHAHEIM    -117.75     33.87  \n",
       "4               2600 5th Street Alameda CA       Alameda    -122.28     37.79  "
      ]
     },
     "execution_count": 3,
     "metadata": {},
     "output_type": "execute_result"
    }
   ],
   "source": [
    "# Load and preview Starbucks locations in California\n",
    "starbucks = pd.read_csv(\"../input/geospatial-learn-course-data/starbucks_locations.csv\")\n",
    "starbucks.head()"
   ]
  },
  {
   "cell_type": "markdown",
   "id": "084d9efc",
   "metadata": {
    "papermill": {
     "duration": 0.009398,
     "end_time": "2022-06-01T11:35:05.439344",
     "exception": false,
     "start_time": "2022-06-01T11:35:05.429946",
     "status": "completed"
    },
    "tags": []
   },
   "source": [
    "Most of the stores have known (latitude, longitude) locations.  But, all of the locations in the city of Berkeley are missing."
   ]
  },
  {
   "cell_type": "code",
   "execution_count": 4,
   "id": "aeff3cbb",
   "metadata": {
    "execution": {
     "iopub.execute_input": "2022-06-01T11:35:05.461051Z",
     "iopub.status.busy": "2022-06-01T11:35:05.460680Z",
     "iopub.status.idle": "2022-06-01T11:35:05.478982Z",
     "shell.execute_reply": "2022-06-01T11:35:05.477954Z"
    },
    "papermill": {
     "duration": 0.033661,
     "end_time": "2022-06-01T11:35:05.482778",
     "exception": false,
     "start_time": "2022-06-01T11:35:05.449117",
     "status": "completed"
    },
    "tags": []
   },
   "outputs": [
    {
     "name": "stdout",
     "output_type": "stream",
     "text": [
      "Store Number    0\n",
      "Store Name      0\n",
      "Address         0\n",
      "City            0\n",
      "Longitude       5\n",
      "Latitude        5\n",
      "dtype: int64\n"
     ]
    },
    {
     "data": {
      "text/html": [
       "<div>\n",
       "<style scoped>\n",
       "    .dataframe tbody tr th:only-of-type {\n",
       "        vertical-align: middle;\n",
       "    }\n",
       "\n",
       "    .dataframe tbody tr th {\n",
       "        vertical-align: top;\n",
       "    }\n",
       "\n",
       "    .dataframe thead th {\n",
       "        text-align: right;\n",
       "    }\n",
       "</style>\n",
       "<table border=\"1\" class=\"dataframe\">\n",
       "  <thead>\n",
       "    <tr style=\"text-align: right;\">\n",
       "      <th></th>\n",
       "      <th>Store Number</th>\n",
       "      <th>Store Name</th>\n",
       "      <th>Address</th>\n",
       "      <th>City</th>\n",
       "      <th>Longitude</th>\n",
       "      <th>Latitude</th>\n",
       "    </tr>\n",
       "  </thead>\n",
       "  <tbody>\n",
       "    <tr>\n",
       "      <th>153</th>\n",
       "      <td>5406-945</td>\n",
       "      <td>2224 Shattuck - Berkeley</td>\n",
       "      <td>2224 Shattuck Avenue Berkeley CA</td>\n",
       "      <td>Berkeley</td>\n",
       "      <td>NaN</td>\n",
       "      <td>NaN</td>\n",
       "    </tr>\n",
       "    <tr>\n",
       "      <th>154</th>\n",
       "      <td>570-512</td>\n",
       "      <td>Solano Ave</td>\n",
       "      <td>1799 Solano Avenue Berkeley CA</td>\n",
       "      <td>Berkeley</td>\n",
       "      <td>NaN</td>\n",
       "      <td>NaN</td>\n",
       "    </tr>\n",
       "    <tr>\n",
       "      <th>155</th>\n",
       "      <td>17877-164526</td>\n",
       "      <td>Safeway - Berkeley #691</td>\n",
       "      <td>1444 Shattuck Place Berkeley CA</td>\n",
       "      <td>Berkeley</td>\n",
       "      <td>NaN</td>\n",
       "      <td>NaN</td>\n",
       "    </tr>\n",
       "    <tr>\n",
       "      <th>156</th>\n",
       "      <td>19864-202264</td>\n",
       "      <td>Telegraph &amp; Ashby</td>\n",
       "      <td>3001 Telegraph Avenue Berkeley CA</td>\n",
       "      <td>Berkeley</td>\n",
       "      <td>NaN</td>\n",
       "      <td>NaN</td>\n",
       "    </tr>\n",
       "    <tr>\n",
       "      <th>157</th>\n",
       "      <td>9217-9253</td>\n",
       "      <td>2128 Oxford St.</td>\n",
       "      <td>2128 Oxford Street Berkeley CA</td>\n",
       "      <td>Berkeley</td>\n",
       "      <td>NaN</td>\n",
       "      <td>NaN</td>\n",
       "    </tr>\n",
       "  </tbody>\n",
       "</table>\n",
       "</div>"
      ],
      "text/plain": [
       "     Store Number                Store Name  \\\n",
       "153      5406-945  2224 Shattuck - Berkeley   \n",
       "154       570-512                Solano Ave   \n",
       "155  17877-164526   Safeway - Berkeley #691   \n",
       "156  19864-202264         Telegraph & Ashby   \n",
       "157     9217-9253           2128 Oxford St.   \n",
       "\n",
       "                               Address      City  Longitude  Latitude  \n",
       "153   2224 Shattuck Avenue Berkeley CA  Berkeley        NaN       NaN  \n",
       "154     1799 Solano Avenue Berkeley CA  Berkeley        NaN       NaN  \n",
       "155    1444 Shattuck Place Berkeley CA  Berkeley        NaN       NaN  \n",
       "156  3001 Telegraph Avenue Berkeley CA  Berkeley        NaN       NaN  \n",
       "157     2128 Oxford Street Berkeley CA  Berkeley        NaN       NaN  "
      ]
     },
     "execution_count": 4,
     "metadata": {},
     "output_type": "execute_result"
    }
   ],
   "source": [
    "# How many rows in each column have missing values?\n",
    "print(starbucks.isnull().sum())\n",
    "\n",
    "# View rows with missing locations\n",
    "rows_with_missing = starbucks[starbucks[\"City\"]==\"Berkeley\"]\n",
    "rows_with_missing"
   ]
  },
  {
   "cell_type": "markdown",
   "id": "fc7559d0",
   "metadata": {
    "papermill": {
     "duration": 0.009817,
     "end_time": "2022-06-01T11:35:05.503143",
     "exception": false,
     "start_time": "2022-06-01T11:35:05.493326",
     "status": "completed"
    },
    "tags": []
   },
   "source": [
    "Use the code cell below to fill in these values with the Nominatim geocoder.\n",
    "\n",
    "Note that in the tutorial, we used `Nominatim()` (from `geopy.geocoders`) to geocode values, and this is what you can use in your own projects outside of this course.  \n",
    "\n",
    "In this exercise, you will use a slightly different function `Nominatim()` (from `learntools.geospatial.tools`).  This function was imported at the top of the notebook and works identically to the function from GeoPandas.\n",
    "\n",
    "So, in other words, as long as: \n",
    "- you don't change the import statements at the top of the notebook, and \n",
    "- you call the geocoding function as `geocode()` in the code cell below, \n",
    "\n",
    "your code will work as intended!"
   ]
  },
  {
   "cell_type": "code",
   "execution_count": 5,
   "id": "8911b278",
   "metadata": {
    "execution": {
     "iopub.execute_input": "2022-06-01T11:35:05.525381Z",
     "iopub.status.busy": "2022-06-01T11:35:05.524486Z",
     "iopub.status.idle": "2022-06-01T11:35:05.821227Z",
     "shell.execute_reply": "2022-06-01T11:35:05.819965Z"
    },
    "papermill": {
     "duration": 0.311539,
     "end_time": "2022-06-01T11:35:05.824757",
     "exception": false,
     "start_time": "2022-06-01T11:35:05.513218",
     "status": "completed"
    },
    "tags": []
   },
   "outputs": [
    {
     "name": "stderr",
     "output_type": "stream",
     "text": [
      "/opt/conda/lib/python3.7/site-packages/pandas/core/frame.py:3641: SettingWithCopyWarning: \n",
      "A value is trying to be set on a copy of a slice from a DataFrame.\n",
      "Try using .loc[row_indexer,col_indexer] = value instead\n",
      "\n",
      "See the caveats in the documentation: https://pandas.pydata.org/pandas-docs/stable/user_guide/indexing.html#returning-a-view-versus-a-copy\n",
      "  self[k1] = value[k2]\n"
     ]
    },
    {
     "data": {
      "application/javascript": [
       "parent.postMessage({\"jupyterEvent\": \"custom.exercise_interaction\", \"data\": {\"outcomeType\": 1, \"valueTowardsCompletion\": 0.2, \"interactionType\": 1, \"questionType\": 2, \"questionId\": \"1_Q1\", \"learnToolsVersion\": \"0.3.4\", \"failureMessage\": \"\", \"exceptionClass\": \"\", \"trace\": \"\"}}, \"*\")"
      ],
      "text/plain": [
       "<IPython.core.display.Javascript object>"
      ]
     },
     "metadata": {},
     "output_type": "display_data"
    },
    {
     "data": {
      "text/markdown": [
       "<span style=\"color:#33cc33\">Correct</span>"
      ],
      "text/plain": [
       "Correct"
      ]
     },
     "metadata": {},
     "output_type": "display_data"
    }
   ],
   "source": [
    "# Create the geocoder\n",
    "geolocator = Nominatim(user_agent=\"kaggle_learn\")\n",
    "\n",
    "# Your code here\n",
    "\n",
    "____\n",
    "def my_geocoder(row):\n",
    "    try:\n",
    "        point = geolocator.geocode(row).point\n",
    "        return pd.Series({'Latitude': point.latitude, 'Longitude': point.longitude})\n",
    "    except:\n",
    "        return None\n",
    "    \n",
    "rows_with_missing[['Latitude', 'Longitude']] = rows_with_missing.apply(lambda x: my_geocoder(x['Address']), axis=1)\n",
    "starbucks.update(rows_with_missing)\n",
    "# Check your answer\n",
    "q_1.check()"
   ]
  },
  {
   "cell_type": "code",
   "execution_count": 6,
   "id": "ec042572",
   "metadata": {
    "execution": {
     "iopub.execute_input": "2022-06-01T11:35:05.848863Z",
     "iopub.status.busy": "2022-06-01T11:35:05.847511Z",
     "iopub.status.idle": "2022-06-01T11:35:05.851756Z",
     "shell.execute_reply": "2022-06-01T11:35:05.850951Z"
    },
    "papermill": {
     "duration": 0.018682,
     "end_time": "2022-06-01T11:35:05.854062",
     "exception": false,
     "start_time": "2022-06-01T11:35:05.835380",
     "status": "completed"
    },
    "tags": []
   },
   "outputs": [],
   "source": [
    "# Line below will give you solution code\n",
    "#q_1.solution()"
   ]
  },
  {
   "cell_type": "markdown",
   "id": "9bed4813",
   "metadata": {
    "papermill": {
     "duration": 0.010103,
     "end_time": "2022-06-01T11:35:05.875132",
     "exception": false,
     "start_time": "2022-06-01T11:35:05.865029",
     "status": "completed"
    },
    "tags": []
   },
   "source": [
    "### 2) View Berkeley locations.\n",
    "\n",
    "Let's take a look at the locations you just found.  Visualize the (latitude, longitude) locations in Berkeley in the OpenStreetMap style. "
   ]
  },
  {
   "cell_type": "code",
   "execution_count": 7,
   "id": "22016ee7",
   "metadata": {
    "execution": {
     "iopub.execute_input": "2022-06-01T11:35:05.899444Z",
     "iopub.status.busy": "2022-06-01T11:35:05.898242Z",
     "iopub.status.idle": "2022-06-01T11:35:05.934159Z",
     "shell.execute_reply": "2022-06-01T11:35:05.933131Z"
    },
    "papermill": {
     "duration": 0.050282,
     "end_time": "2022-06-01T11:35:05.936407",
     "exception": false,
     "start_time": "2022-06-01T11:35:05.886125",
     "status": "completed"
    },
    "tags": []
   },
   "outputs": [
    {
     "data": {
      "text/html": [
       "\n",
       "        <iframe\n",
       "            width=\"100%\"\n",
       "            height=\"500px\"\n",
       "            src=\"q_2.html\"\n",
       "            frameborder=\"0\"\n",
       "            allowfullscreen\n",
       "            \n",
       "        ></iframe>\n",
       "        "
      ],
      "text/plain": [
       "<IPython.lib.display.IFrame at 0x7f36f9346910>"
      ]
     },
     "execution_count": 7,
     "metadata": {},
     "output_type": "execute_result"
    }
   ],
   "source": [
    "# Create a base map\n",
    "m_2 = folium.Map(location=[37.88,-122.26],tiles = 'OpenStreetMap', zoom_start=13)\n",
    "\n",
    "# Your code here: Add a marker for each Berkeley location\n",
    "for idx, row in starbucks[starbucks[\"City\"]=='Berkeley'].iterrows():\n",
    "    Marker([row['Latitude'], row['Longitude']], popup=row['Address']).add_to(m_2)\n",
    "\n",
    "# Uncomment to see a hint\n",
    "#q_2.a.hint()\n",
    "\n",
    "# Show the map\n",
    "embed_map(m_2, 'q_2.html')"
   ]
  },
  {
   "cell_type": "code",
   "execution_count": 8,
   "id": "4518777c",
   "metadata": {
    "execution": {
     "iopub.execute_input": "2022-06-01T11:35:05.961639Z",
     "iopub.status.busy": "2022-06-01T11:35:05.960486Z",
     "iopub.status.idle": "2022-06-01T11:35:05.968544Z",
     "shell.execute_reply": "2022-06-01T11:35:05.967761Z"
    },
    "papermill": {
     "duration": 0.023491,
     "end_time": "2022-06-01T11:35:05.970890",
     "exception": false,
     "start_time": "2022-06-01T11:35:05.947399",
     "status": "completed"
    },
    "tags": []
   },
   "outputs": [
    {
     "data": {
      "application/javascript": [
       "parent.postMessage({\"jupyterEvent\": \"custom.exercise_interaction\", \"data\": {\"outcomeType\": 1, \"valueTowardsCompletion\": 0.2, \"interactionType\": 1, \"questionType\": 2, \"questionId\": \"2.1_Q2P\", \"learnToolsVersion\": \"0.3.4\", \"failureMessage\": \"\", \"exceptionClass\": \"\", \"trace\": \"\"}}, \"*\")"
      ],
      "text/plain": [
       "<IPython.core.display.Javascript object>"
      ]
     },
     "metadata": {},
     "output_type": "display_data"
    },
    {
     "data": {
      "text/markdown": [
       "<span style=\"color:#33cc33\">Thank you for creating a map!</span>"
      ],
      "text/plain": [
       "Thank you for creating a map!"
      ]
     },
     "metadata": {},
     "output_type": "display_data"
    }
   ],
   "source": [
    "# Get credit for your work after you have created a map\n",
    "q_2.a.check()\n",
    "\n",
    "# Uncomment to see our solution (your code may look different!)\n",
    "#q_2.a.solution()"
   ]
  },
  {
   "cell_type": "markdown",
   "id": "81bc3202",
   "metadata": {
    "papermill": {
     "duration": 0.010697,
     "end_time": "2022-06-01T11:35:05.992781",
     "exception": false,
     "start_time": "2022-06-01T11:35:05.982084",
     "status": "completed"
    },
    "tags": []
   },
   "source": [
    "Considering only the five locations in Berkeley, how many of the (latitude, longitude) locations seem potentially correct (are located in the correct city)?"
   ]
  },
  {
   "cell_type": "code",
   "execution_count": 9,
   "id": "2a416b46",
   "metadata": {
    "execution": {
     "iopub.execute_input": "2022-06-01T11:35:06.016770Z",
     "iopub.status.busy": "2022-06-01T11:35:06.016215Z",
     "iopub.status.idle": "2022-06-01T11:35:06.022673Z",
     "shell.execute_reply": "2022-06-01T11:35:06.021967Z"
    },
    "papermill": {
     "duration": 0.020628,
     "end_time": "2022-06-01T11:35:06.024428",
     "exception": false,
     "start_time": "2022-06-01T11:35:06.003800",
     "status": "completed"
    },
    "tags": []
   },
   "outputs": [
    {
     "data": {
      "application/javascript": [
       "parent.postMessage({\"jupyterEvent\": \"custom.exercise_interaction\", \"data\": {\"interactionType\": 3, \"questionType\": 4, \"questionId\": \"2.2_Q2T\", \"learnToolsVersion\": \"0.3.4\", \"valueTowardsCompletion\": 0.0, \"failureMessage\": \"\", \"exceptionClass\": \"\", \"trace\": \"\", \"outcomeType\": 4}}, \"*\")"
      ],
      "text/plain": [
       "<IPython.core.display.Javascript object>"
      ]
     },
     "metadata": {},
     "output_type": "display_data"
    },
    {
     "data": {
      "text/markdown": [
       "<span style=\"color:#33cc99\">Solution:</span> All five locations appear to be correct!"
      ],
      "text/plain": [
       "Solution: All five locations appear to be correct!"
      ]
     },
     "metadata": {},
     "output_type": "display_data"
    }
   ],
   "source": [
    "# View the solution (Run this code cell to receive credit!)\n",
    "q_2.b.solution()"
   ]
  },
  {
   "cell_type": "markdown",
   "id": "3a79ee13",
   "metadata": {
    "papermill": {
     "duration": 0.010717,
     "end_time": "2022-06-01T11:35:06.046418",
     "exception": false,
     "start_time": "2022-06-01T11:35:06.035701",
     "status": "completed"
    },
    "tags": []
   },
   "source": [
    "### 3) Consolidate your data.\n",
    "\n",
    "Run the code below to load a GeoDataFrame `CA_counties` containing the name, area (in square kilometers), and a unique id (in the \"GEOID\" column) for each county in the state of California.  The \"geometry\" column contains a polygon with county boundaries."
   ]
  },
  {
   "cell_type": "code",
   "execution_count": 10,
   "id": "9d2c75a9",
   "metadata": {
    "execution": {
     "iopub.execute_input": "2022-06-01T11:35:06.070583Z",
     "iopub.status.busy": "2022-06-01T11:35:06.070053Z",
     "iopub.status.idle": "2022-06-01T11:35:06.391435Z",
     "shell.execute_reply": "2022-06-01T11:35:06.390682Z"
    },
    "papermill": {
     "duration": 0.33573,
     "end_time": "2022-06-01T11:35:06.393356",
     "exception": false,
     "start_time": "2022-06-01T11:35:06.057626",
     "status": "completed"
    },
    "tags": []
   },
   "outputs": [
    {
     "data": {
      "text/html": [
       "<div>\n",
       "<style scoped>\n",
       "    .dataframe tbody tr th:only-of-type {\n",
       "        vertical-align: middle;\n",
       "    }\n",
       "\n",
       "    .dataframe tbody tr th {\n",
       "        vertical-align: top;\n",
       "    }\n",
       "\n",
       "    .dataframe thead th {\n",
       "        text-align: right;\n",
       "    }\n",
       "</style>\n",
       "<table border=\"1\" class=\"dataframe\">\n",
       "  <thead>\n",
       "    <tr style=\"text-align: right;\">\n",
       "      <th></th>\n",
       "      <th>GEOID</th>\n",
       "      <th>name</th>\n",
       "      <th>area_sqkm</th>\n",
       "      <th>geometry</th>\n",
       "    </tr>\n",
       "  </thead>\n",
       "  <tbody>\n",
       "    <tr>\n",
       "      <th>0</th>\n",
       "      <td>6091</td>\n",
       "      <td>Sierra County</td>\n",
       "      <td>2491.995494</td>\n",
       "      <td>POLYGON ((-120.65560 39.69357, -120.65554 39.6...</td>\n",
       "    </tr>\n",
       "    <tr>\n",
       "      <th>1</th>\n",
       "      <td>6067</td>\n",
       "      <td>Sacramento County</td>\n",
       "      <td>2575.258262</td>\n",
       "      <td>POLYGON ((-121.18858 38.71431, -121.18732 38.7...</td>\n",
       "    </tr>\n",
       "    <tr>\n",
       "      <th>2</th>\n",
       "      <td>6083</td>\n",
       "      <td>Santa Barbara County</td>\n",
       "      <td>9813.817958</td>\n",
       "      <td>MULTIPOLYGON (((-120.58191 34.09856, -120.5822...</td>\n",
       "    </tr>\n",
       "    <tr>\n",
       "      <th>3</th>\n",
       "      <td>6009</td>\n",
       "      <td>Calaveras County</td>\n",
       "      <td>2685.626726</td>\n",
       "      <td>POLYGON ((-120.63095 38.34111, -120.63058 38.3...</td>\n",
       "    </tr>\n",
       "    <tr>\n",
       "      <th>4</th>\n",
       "      <td>6111</td>\n",
       "      <td>Ventura County</td>\n",
       "      <td>5719.321379</td>\n",
       "      <td>MULTIPOLYGON (((-119.63631 33.27304, -119.6360...</td>\n",
       "    </tr>\n",
       "  </tbody>\n",
       "</table>\n",
       "</div>"
      ],
      "text/plain": [
       "   GEOID                  name    area_sqkm  \\\n",
       "0   6091         Sierra County  2491.995494   \n",
       "1   6067     Sacramento County  2575.258262   \n",
       "2   6083  Santa Barbara County  9813.817958   \n",
       "3   6009      Calaveras County  2685.626726   \n",
       "4   6111        Ventura County  5719.321379   \n",
       "\n",
       "                                            geometry  \n",
       "0  POLYGON ((-120.65560 39.69357, -120.65554 39.6...  \n",
       "1  POLYGON ((-121.18858 38.71431, -121.18732 38.7...  \n",
       "2  MULTIPOLYGON (((-120.58191 34.09856, -120.5822...  \n",
       "3  POLYGON ((-120.63095 38.34111, -120.63058 38.3...  \n",
       "4  MULTIPOLYGON (((-119.63631 33.27304, -119.6360...  "
      ]
     },
     "execution_count": 10,
     "metadata": {},
     "output_type": "execute_result"
    }
   ],
   "source": [
    "CA_counties = gpd.read_file(\"../input/geospatial-learn-course-data/CA_county_boundaries/CA_county_boundaries/CA_county_boundaries.shp\")\n",
    "CA_counties.head()"
   ]
  },
  {
   "cell_type": "markdown",
   "id": "211b85d8",
   "metadata": {
    "papermill": {
     "duration": 0.011403,
     "end_time": "2022-06-01T11:35:06.417164",
     "exception": false,
     "start_time": "2022-06-01T11:35:06.405761",
     "status": "completed"
    },
    "tags": []
   },
   "source": [
    "Next, we create three DataFrames:\n",
    "- `CA_pop` contains an estimate of the population of each county.\n",
    "- `CA_high_earners` contains the number of households with an income of at least $150,000 per year.\n",
    "- `CA_median_age` contains the median age for each county."
   ]
  },
  {
   "cell_type": "code",
   "execution_count": 11,
   "id": "52869e18",
   "metadata": {
    "execution": {
     "iopub.execute_input": "2022-06-01T11:35:06.442390Z",
     "iopub.status.busy": "2022-06-01T11:35:06.441857Z",
     "iopub.status.idle": "2022-06-01T11:35:06.454866Z",
     "shell.execute_reply": "2022-06-01T11:35:06.454023Z"
    },
    "papermill": {
     "duration": 0.028247,
     "end_time": "2022-06-01T11:35:06.457087",
     "exception": false,
     "start_time": "2022-06-01T11:35:06.428840",
     "status": "completed"
    },
    "tags": []
   },
   "outputs": [],
   "source": [
    "CA_pop = pd.read_csv(\"../input/geospatial-learn-course-data/CA_county_population.csv\", index_col=\"GEOID\")\n",
    "CA_high_earners = pd.read_csv(\"../input/geospatial-learn-course-data/CA_county_high_earners.csv\", index_col=\"GEOID\")\n",
    "CA_median_age = pd.read_csv(\"../input/geospatial-learn-course-data/CA_county_median_age.csv\", index_col=\"GEOID\")\n",
    "\n",
    "\n"
   ]
  },
  {
   "cell_type": "markdown",
   "id": "e57b733e",
   "metadata": {
    "papermill": {
     "duration": 0.011453,
     "end_time": "2022-06-01T11:35:06.480499",
     "exception": false,
     "start_time": "2022-06-01T11:35:06.469046",
     "status": "completed"
    },
    "tags": []
   },
   "source": [
    "CA_high_earnersCA_high_earnersUse the next code cell to join the `CA_counties` GeoDataFrame with `CA_pop`, `CA_high_earners`, and `CA_median_age`.\n",
    "\n",
    "Name the resultant GeoDataFrame `CA_stats`, and make sure it has 8 columns: \"GEOID\", \"name\", \"area_sqkm\", \"geometry\", \"population\", \"high_earners\", and \"median_age\".  Also, make sure the CRS is set to `{'init': 'epsg:4326'}`."
   ]
  },
  {
   "cell_type": "code",
   "execution_count": 12,
   "id": "169d111b",
   "metadata": {
    "execution": {
     "iopub.execute_input": "2022-06-01T11:35:06.505665Z",
     "iopub.status.busy": "2022-06-01T11:35:06.505104Z",
     "iopub.status.idle": "2022-06-01T11:35:06.826322Z",
     "shell.execute_reply": "2022-06-01T11:35:06.825223Z"
    },
    "papermill": {
     "duration": 0.336429,
     "end_time": "2022-06-01T11:35:06.828746",
     "exception": false,
     "start_time": "2022-06-01T11:35:06.492317",
     "status": "completed"
    },
    "tags": []
   },
   "outputs": [
    {
     "name": "stderr",
     "output_type": "stream",
     "text": [
      "/opt/conda/lib/python3.7/site-packages/pyproj/crs/crs.py:68: FutureWarning: '+init=<authority>:<code>' syntax is deprecated. '<authority>:<code>' is the preferred initialization method. When making the change, be mindful of axis order changes: https://pyproj4.github.io/pyproj/stable/gotchas.html#axis-order-changes-in-proj-6\n",
      "  return _prepare_from_string(\" \".join(pjargs))\n"
     ]
    },
    {
     "data": {
      "application/javascript": [
       "parent.postMessage({\"jupyterEvent\": \"custom.exercise_interaction\", \"data\": {\"outcomeType\": 1, \"valueTowardsCompletion\": 0.2, \"interactionType\": 1, \"questionType\": 2, \"questionId\": \"3_Q3\", \"learnToolsVersion\": \"0.3.4\", \"failureMessage\": \"\", \"exceptionClass\": \"\", \"trace\": \"\"}}, \"*\")"
      ],
      "text/plain": [
       "<IPython.core.display.Javascript object>"
      ]
     },
     "metadata": {},
     "output_type": "display_data"
    },
    {
     "data": {
      "text/markdown": [
       "<span style=\"color:#33cc33\">Correct</span>"
      ],
      "text/plain": [
       "Correct"
      ]
     },
     "metadata": {},
     "output_type": "display_data"
    }
   ],
   "source": [
    "# Your code here\n",
    "ca_pop = CA_pop.join([CA_high_earners, CA_median_age]).reset_index()\n",
    "CA_stats = CA_counties.merge(ca_pop, on=\"GEOID\")\n",
    "CA_stats.crs = {'init' : 'epsg:4326'}\n",
    "\n",
    "# Check your answer\n",
    "q_3.check()"
   ]
  },
  {
   "cell_type": "code",
   "execution_count": 13,
   "id": "bd7b5803",
   "metadata": {
    "execution": {
     "iopub.execute_input": "2022-06-01T11:35:06.854781Z",
     "iopub.status.busy": "2022-06-01T11:35:06.853822Z",
     "iopub.status.idle": "2022-06-01T11:35:06.858031Z",
     "shell.execute_reply": "2022-06-01T11:35:06.857094Z"
    },
    "papermill": {
     "duration": 0.019268,
     "end_time": "2022-06-01T11:35:06.860123",
     "exception": false,
     "start_time": "2022-06-01T11:35:06.840855",
     "status": "completed"
    },
    "tags": []
   },
   "outputs": [],
   "source": [
    "# Lines below will give you a hint or solution code\n",
    "#q_3.hint()\n",
    "#q_3.solution()"
   ]
  },
  {
   "cell_type": "markdown",
   "id": "fd9ea770",
   "metadata": {
    "papermill": {
     "duration": 0.011277,
     "end_time": "2022-06-01T11:35:06.883330",
     "exception": false,
     "start_time": "2022-06-01T11:35:06.872053",
     "status": "completed"
    },
    "tags": []
   },
   "source": [
    "Now that we have all of the data in one place, it's much easier to calculate statistics that use a combination of columns.  Run the next code cell to create a \"density\" column with the population density."
   ]
  },
  {
   "cell_type": "code",
   "execution_count": 14,
   "id": "4d5f66e9",
   "metadata": {
    "execution": {
     "iopub.execute_input": "2022-06-01T11:35:06.908203Z",
     "iopub.status.busy": "2022-06-01T11:35:06.907816Z",
     "iopub.status.idle": "2022-06-01T11:35:08.493269Z",
     "shell.execute_reply": "2022-06-01T11:35:08.492067Z"
    },
    "papermill": {
     "duration": 1.600993,
     "end_time": "2022-06-01T11:35:08.496118",
     "exception": false,
     "start_time": "2022-06-01T11:35:06.895125",
     "status": "completed"
    },
    "tags": []
   },
   "outputs": [
    {
     "data": {
      "text/html": [
       "<div>\n",
       "<style scoped>\n",
       "    .dataframe tbody tr th:only-of-type {\n",
       "        vertical-align: middle;\n",
       "    }\n",
       "\n",
       "    .dataframe tbody tr th {\n",
       "        vertical-align: top;\n",
       "    }\n",
       "\n",
       "    .dataframe thead th {\n",
       "        text-align: right;\n",
       "    }\n",
       "</style>\n",
       "<table border=\"1\" class=\"dataframe\">\n",
       "  <thead>\n",
       "    <tr style=\"text-align: right;\">\n",
       "      <th></th>\n",
       "      <th>GEOID</th>\n",
       "      <th>name</th>\n",
       "      <th>area_sqkm</th>\n",
       "      <th>geometry</th>\n",
       "      <th>population</th>\n",
       "      <th>high_earners</th>\n",
       "      <th>median_age</th>\n",
       "      <th>density</th>\n",
       "    </tr>\n",
       "  </thead>\n",
       "  <tbody>\n",
       "    <tr>\n",
       "      <th>0</th>\n",
       "      <td>6091</td>\n",
       "      <td>Sierra County</td>\n",
       "      <td>2491.995494</td>\n",
       "      <td>POLYGON ((-120.65560 39.69357, -120.65554 39.6...</td>\n",
       "      <td>2987</td>\n",
       "      <td>111</td>\n",
       "      <td>55.0</td>\n",
       "      <td>1.198638</td>\n",
       "    </tr>\n",
       "    <tr>\n",
       "      <th>1</th>\n",
       "      <td>6067</td>\n",
       "      <td>Sacramento County</td>\n",
       "      <td>2575.258262</td>\n",
       "      <td>POLYGON ((-121.18858 38.71431, -121.18732 38.7...</td>\n",
       "      <td>1540975</td>\n",
       "      <td>65768</td>\n",
       "      <td>35.9</td>\n",
       "      <td>598.376878</td>\n",
       "    </tr>\n",
       "    <tr>\n",
       "      <th>2</th>\n",
       "      <td>6083</td>\n",
       "      <td>Santa Barbara County</td>\n",
       "      <td>9813.817958</td>\n",
       "      <td>MULTIPOLYGON (((-120.58191 34.09856, -120.5822...</td>\n",
       "      <td>446527</td>\n",
       "      <td>25231</td>\n",
       "      <td>33.7</td>\n",
       "      <td>45.499825</td>\n",
       "    </tr>\n",
       "    <tr>\n",
       "      <th>3</th>\n",
       "      <td>6009</td>\n",
       "      <td>Calaveras County</td>\n",
       "      <td>2685.626726</td>\n",
       "      <td>POLYGON ((-120.63095 38.34111, -120.63058 38.3...</td>\n",
       "      <td>45602</td>\n",
       "      <td>2046</td>\n",
       "      <td>51.6</td>\n",
       "      <td>16.980022</td>\n",
       "    </tr>\n",
       "    <tr>\n",
       "      <th>4</th>\n",
       "      <td>6111</td>\n",
       "      <td>Ventura County</td>\n",
       "      <td>5719.321379</td>\n",
       "      <td>MULTIPOLYGON (((-119.63631 33.27304, -119.6360...</td>\n",
       "      <td>850967</td>\n",
       "      <td>57121</td>\n",
       "      <td>37.5</td>\n",
       "      <td>148.788107</td>\n",
       "    </tr>\n",
       "    <tr>\n",
       "      <th>5</th>\n",
       "      <td>6037</td>\n",
       "      <td>Los Angeles County</td>\n",
       "      <td>12305.376879</td>\n",
       "      <td>MULTIPOLYGON (((-118.66761 33.47749, -118.6682...</td>\n",
       "      <td>10105518</td>\n",
       "      <td>501413</td>\n",
       "      <td>36.0</td>\n",
       "      <td>821.227834</td>\n",
       "    </tr>\n",
       "    <tr>\n",
       "      <th>6</th>\n",
       "      <td>6097</td>\n",
       "      <td>Sonoma County</td>\n",
       "      <td>4578.952090</td>\n",
       "      <td>POLYGON ((-122.93507 38.31396, -122.93511 38.3...</td>\n",
       "      <td>499942</td>\n",
       "      <td>32713</td>\n",
       "      <td>41.4</td>\n",
       "      <td>109.182623</td>\n",
       "    </tr>\n",
       "    <tr>\n",
       "      <th>7</th>\n",
       "      <td>6031</td>\n",
       "      <td>Kings County</td>\n",
       "      <td>3604.052342</td>\n",
       "      <td>POLYGON ((-119.95894 36.25547, -119.95894 36.2...</td>\n",
       "      <td>151366</td>\n",
       "      <td>2943</td>\n",
       "      <td>31.5</td>\n",
       "      <td>41.998835</td>\n",
       "    </tr>\n",
       "    <tr>\n",
       "      <th>8</th>\n",
       "      <td>6073</td>\n",
       "      <td>San Diego County</td>\n",
       "      <td>11721.342229</td>\n",
       "      <td>POLYGON ((-117.43744 33.17953, -117.44955 33.1...</td>\n",
       "      <td>3343364</td>\n",
       "      <td>194676</td>\n",
       "      <td>35.4</td>\n",
       "      <td>285.237299</td>\n",
       "    </tr>\n",
       "    <tr>\n",
       "      <th>9</th>\n",
       "      <td>6061</td>\n",
       "      <td>Placer County</td>\n",
       "      <td>3890.821444</td>\n",
       "      <td>POLYGON ((-121.06545 39.00654, -121.06538 39.0...</td>\n",
       "      <td>393149</td>\n",
       "      <td>28334</td>\n",
       "      <td>41.6</td>\n",
       "      <td>101.045243</td>\n",
       "    </tr>\n",
       "    <tr>\n",
       "      <th>10</th>\n",
       "      <td>6075</td>\n",
       "      <td>San Francisco County</td>\n",
       "      <td>600.588247</td>\n",
       "      <td>MULTIPOLYGON (((-122.60025 37.80249, -122.6123...</td>\n",
       "      <td>883305</td>\n",
       "      <td>114989</td>\n",
       "      <td>38.3</td>\n",
       "      <td>1470.733077</td>\n",
       "    </tr>\n",
       "    <tr>\n",
       "      <th>11</th>\n",
       "      <td>6041</td>\n",
       "      <td>Marin County</td>\n",
       "      <td>2145.002294</td>\n",
       "      <td>POLYGON ((-122.78640 37.88695, -122.78705 37.8...</td>\n",
       "      <td>259666</td>\n",
       "      <td>36709</td>\n",
       "      <td>46.1</td>\n",
       "      <td>121.056281</td>\n",
       "    </tr>\n",
       "    <tr>\n",
       "      <th>12</th>\n",
       "      <td>6043</td>\n",
       "      <td>Mariposa County</td>\n",
       "      <td>3788.688968</td>\n",
       "      <td>POLYGON ((-120.32154 37.52441, -120.32158 37.5...</td>\n",
       "      <td>17471</td>\n",
       "      <td>435</td>\n",
       "      <td>51.1</td>\n",
       "      <td>4.611358</td>\n",
       "    </tr>\n",
       "    <tr>\n",
       "      <th>13</th>\n",
       "      <td>6035</td>\n",
       "      <td>Lassen County</td>\n",
       "      <td>12225.045695</td>\n",
       "      <td>POLYGON ((-121.32192 40.65496, -121.32182 40.6...</td>\n",
       "      <td>30802</td>\n",
       "      <td>794</td>\n",
       "      <td>36.2</td>\n",
       "      <td>2.519582</td>\n",
       "    </tr>\n",
       "    <tr>\n",
       "      <th>14</th>\n",
       "      <td>6055</td>\n",
       "      <td>Napa County</td>\n",
       "      <td>2042.415083</td>\n",
       "      <td>POLYGON ((-122.46390 38.70521, -122.46390 38.7...</td>\n",
       "      <td>139417</td>\n",
       "      <td>10577</td>\n",
       "      <td>40.8</td>\n",
       "      <td>68.260855</td>\n",
       "    </tr>\n",
       "    <tr>\n",
       "      <th>15</th>\n",
       "      <td>6089</td>\n",
       "      <td>Shasta County</td>\n",
       "      <td>9964.716292</td>\n",
       "      <td>POLYGON ((-122.61528 40.88107, -122.61474 40.8...</td>\n",
       "      <td>180040</td>\n",
       "      <td>5559</td>\n",
       "      <td>41.8</td>\n",
       "      <td>18.067750</td>\n",
       "    </tr>\n",
       "    <tr>\n",
       "      <th>16</th>\n",
       "      <td>6053</td>\n",
       "      <td>Monterey County</td>\n",
       "      <td>9767.393438</td>\n",
       "      <td>POLYGON ((-122.02682 36.54641, -122.02703 36.5...</td>\n",
       "      <td>435594</td>\n",
       "      <td>17144</td>\n",
       "      <td>33.9</td>\n",
       "      <td>44.596750</td>\n",
       "    </tr>\n",
       "    <tr>\n",
       "      <th>17</th>\n",
       "      <td>6105</td>\n",
       "      <td>Trinity County</td>\n",
       "      <td>8307.671238</td>\n",
       "      <td>POLYGON ((-123.54397 40.73294, -123.54387 40.7...</td>\n",
       "      <td>12535</td>\n",
       "      <td>261</td>\n",
       "      <td>51.4</td>\n",
       "      <td>1.508846</td>\n",
       "    </tr>\n",
       "    <tr>\n",
       "      <th>18</th>\n",
       "      <td>6045</td>\n",
       "      <td>Mendocino County</td>\n",
       "      <td>10044.373925</td>\n",
       "      <td>POLYGON ((-123.83842 39.55492, -123.83967 39.5...</td>\n",
       "      <td>87606</td>\n",
       "      <td>2317</td>\n",
       "      <td>42.4</td>\n",
       "      <td>8.721898</td>\n",
       "    </tr>\n",
       "    <tr>\n",
       "      <th>19</th>\n",
       "      <td>6027</td>\n",
       "      <td>Inyo County</td>\n",
       "      <td>26487.624002</td>\n",
       "      <td>POLYGON ((-118.33759 36.65481, -118.33774 36.6...</td>\n",
       "      <td>17987</td>\n",
       "      <td>517</td>\n",
       "      <td>45.6</td>\n",
       "      <td>0.679072</td>\n",
       "    </tr>\n",
       "    <tr>\n",
       "      <th>20</th>\n",
       "      <td>6051</td>\n",
       "      <td>Mono County</td>\n",
       "      <td>8111.550582</td>\n",
       "      <td>POLYGON ((-119.30892 38.00715, -119.30887 38.0...</td>\n",
       "      <td>14250</td>\n",
       "      <td>376</td>\n",
       "      <td>38.3</td>\n",
       "      <td>1.756754</td>\n",
       "    </tr>\n",
       "    <tr>\n",
       "      <th>21</th>\n",
       "      <td>6109</td>\n",
       "      <td>Tuolumne County</td>\n",
       "      <td>5890.813071</td>\n",
       "      <td>POLYGON ((-120.50017 38.00413, -120.50027 38.0...</td>\n",
       "      <td>54539</td>\n",
       "      <td>2059</td>\n",
       "      <td>48.6</td>\n",
       "      <td>9.258314</td>\n",
       "    </tr>\n",
       "    <tr>\n",
       "      <th>22</th>\n",
       "      <td>6095</td>\n",
       "      <td>Solano County</td>\n",
       "      <td>2347.025927</td>\n",
       "      <td>POLYGON ((-122.06479 38.31592, -122.06509 38.3...</td>\n",
       "      <td>446610</td>\n",
       "      <td>23192</td>\n",
       "      <td>37.7</td>\n",
       "      <td>190.287629</td>\n",
       "    </tr>\n",
       "    <tr>\n",
       "      <th>23</th>\n",
       "      <td>6071</td>\n",
       "      <td>San Bernardino County</td>\n",
       "      <td>52071.981221</td>\n",
       "      <td>POLYGON ((-117.66726 34.73434, -117.66725 34.7...</td>\n",
       "      <td>2171603</td>\n",
       "      <td>62380</td>\n",
       "      <td>32.9</td>\n",
       "      <td>41.703867</td>\n",
       "    </tr>\n",
       "    <tr>\n",
       "      <th>24</th>\n",
       "      <td>6013</td>\n",
       "      <td>Contra Costa County</td>\n",
       "      <td>2081.751097</td>\n",
       "      <td>POLYGON ((-122.26766 37.90425, -122.26782 37.9...</td>\n",
       "      <td>1150215</td>\n",
       "      <td>100758</td>\n",
       "      <td>39.2</td>\n",
       "      <td>552.522827</td>\n",
       "    </tr>\n",
       "    <tr>\n",
       "      <th>25</th>\n",
       "      <td>6003</td>\n",
       "      <td>Alpine County</td>\n",
       "      <td>1924.850289</td>\n",
       "      <td>POLYGON ((-120.07334 38.70110, -120.07325 38.7...</td>\n",
       "      <td>1101</td>\n",
       "      <td>30</td>\n",
       "      <td>44.9</td>\n",
       "      <td>0.571993</td>\n",
       "    </tr>\n",
       "    <tr>\n",
       "      <th>26</th>\n",
       "      <td>6017</td>\n",
       "      <td>El Dorado County</td>\n",
       "      <td>4626.620916</td>\n",
       "      <td>POLYGON ((-121.11863 38.71712, -121.11878 38.7...</td>\n",
       "      <td>190678</td>\n",
       "      <td>13490</td>\n",
       "      <td>45.5</td>\n",
       "      <td>41.213232</td>\n",
       "    </tr>\n",
       "    <tr>\n",
       "      <th>27</th>\n",
       "      <td>6113</td>\n",
       "      <td>Yolo County</td>\n",
       "      <td>2650.946044</td>\n",
       "      <td>POLYGON ((-122.16496 38.64247, -122.16399 38.6...</td>\n",
       "      <td>220408</td>\n",
       "      <td>11669</td>\n",
       "      <td>30.9</td>\n",
       "      <td>83.143148</td>\n",
       "    </tr>\n",
       "    <tr>\n",
       "      <th>28</th>\n",
       "      <td>6115</td>\n",
       "      <td>Yuba County</td>\n",
       "      <td>1667.972300</td>\n",
       "      <td>POLYGON ((-121.59769 39.12780, -121.59782 39.1...</td>\n",
       "      <td>78041</td>\n",
       "      <td>1673</td>\n",
       "      <td>32.4</td>\n",
       "      <td>46.787947</td>\n",
       "    </tr>\n",
       "    <tr>\n",
       "      <th>29</th>\n",
       "      <td>6069</td>\n",
       "      <td>San Benito County</td>\n",
       "      <td>3601.312522</td>\n",
       "      <td>POLYGON ((-121.48301 36.76505, -121.48352 36.7...</td>\n",
       "      <td>61537</td>\n",
       "      <td>3088</td>\n",
       "      <td>35.4</td>\n",
       "      <td>17.087381</td>\n",
       "    </tr>\n",
       "    <tr>\n",
       "      <th>30</th>\n",
       "      <td>6023</td>\n",
       "      <td>Humboldt County</td>\n",
       "      <td>10495.292352</td>\n",
       "      <td>POLYGON ((-124.28141 40.79915, -124.28019 40.7...</td>\n",
       "      <td>136373</td>\n",
       "      <td>3101</td>\n",
       "      <td>37.7</td>\n",
       "      <td>12.993730</td>\n",
       "    </tr>\n",
       "    <tr>\n",
       "      <th>31</th>\n",
       "      <td>6065</td>\n",
       "      <td>Riverside County</td>\n",
       "      <td>18915.139886</td>\n",
       "      <td>POLYGON ((-117.67285 33.86991, -117.67289 33.8...</td>\n",
       "      <td>2450758</td>\n",
       "      <td>84359</td>\n",
       "      <td>35.0</td>\n",
       "      <td>129.565946</td>\n",
       "    </tr>\n",
       "    <tr>\n",
       "      <th>32</th>\n",
       "      <td>6029</td>\n",
       "      <td>Kern County</td>\n",
       "      <td>21141.170481</td>\n",
       "      <td>POLYGON ((-119.91367 35.43927, -119.92328 35.4...</td>\n",
       "      <td>896764</td>\n",
       "      <td>23553</td>\n",
       "      <td>31.3</td>\n",
       "      <td>42.417897</td>\n",
       "    </tr>\n",
       "    <tr>\n",
       "      <th>33</th>\n",
       "      <td>6011</td>\n",
       "      <td>Colusa County</td>\n",
       "      <td>2994.955672</td>\n",
       "      <td>POLYGON ((-122.08020 39.41421, -122.07998 39.4...</td>\n",
       "      <td>21627</td>\n",
       "      <td>673</td>\n",
       "      <td>34.7</td>\n",
       "      <td>7.221142</td>\n",
       "    </tr>\n",
       "    <tr>\n",
       "      <th>34</th>\n",
       "      <td>6015</td>\n",
       "      <td>Del Norte County</td>\n",
       "      <td>3184.863169</td>\n",
       "      <td>POLYGON ((-124.31613 41.72840, -124.33062 41.7...</td>\n",
       "      <td>27828</td>\n",
       "      <td>464</td>\n",
       "      <td>38.7</td>\n",
       "      <td>8.737581</td>\n",
       "    </tr>\n",
       "    <tr>\n",
       "      <th>35</th>\n",
       "      <td>6049</td>\n",
       "      <td>Modoc County</td>\n",
       "      <td>10886.381318</td>\n",
       "      <td>POLYGON ((-120.15942 41.99461, -120.15925 41.9...</td>\n",
       "      <td>8777</td>\n",
       "      <td>87</td>\n",
       "      <td>47.8</td>\n",
       "      <td>0.806237</td>\n",
       "    </tr>\n",
       "    <tr>\n",
       "      <th>36</th>\n",
       "      <td>6019</td>\n",
       "      <td>Fresno County</td>\n",
       "      <td>15568.553545</td>\n",
       "      <td>POLYGON ((-119.70537 36.99980, -119.70503 37.0...</td>\n",
       "      <td>994400</td>\n",
       "      <td>27004</td>\n",
       "      <td>31.8</td>\n",
       "      <td>63.872344</td>\n",
       "    </tr>\n",
       "    <tr>\n",
       "      <th>37</th>\n",
       "      <td>6039</td>\n",
       "      <td>Madera County</td>\n",
       "      <td>5577.056670</td>\n",
       "      <td>POLYGON ((-120.10640 37.16716, -120.10579 37.1...</td>\n",
       "      <td>157672</td>\n",
       "      <td>2934</td>\n",
       "      <td>33.7</td>\n",
       "      <td>28.271543</td>\n",
       "    </tr>\n",
       "    <tr>\n",
       "      <th>38</th>\n",
       "      <td>6085</td>\n",
       "      <td>Santa Clara County</td>\n",
       "      <td>3377.487898</td>\n",
       "      <td>POLYGON ((-122.04413 37.20050, -122.04410 37.2...</td>\n",
       "      <td>1937570</td>\n",
       "      <td>221273</td>\n",
       "      <td>37.0</td>\n",
       "      <td>573.671930</td>\n",
       "    </tr>\n",
       "    <tr>\n",
       "      <th>39</th>\n",
       "      <td>6103</td>\n",
       "      <td>Tehama County</td>\n",
       "      <td>7671.997090</td>\n",
       "      <td>POLYGON ((-122.37149 40.37261, -122.37047 40.3...</td>\n",
       "      <td>63916</td>\n",
       "      <td>1394</td>\n",
       "      <td>41.1</td>\n",
       "      <td>8.331077</td>\n",
       "    </tr>\n",
       "    <tr>\n",
       "      <th>40</th>\n",
       "      <td>6077</td>\n",
       "      <td>San Joaquin County</td>\n",
       "      <td>3695.304050</td>\n",
       "      <td>POLYGON ((-121.20790 38.24882, -121.20704 38.2...</td>\n",
       "      <td>752660</td>\n",
       "      <td>24530</td>\n",
       "      <td>33.9</td>\n",
       "      <td>203.680127</td>\n",
       "    </tr>\n",
       "    <tr>\n",
       "      <th>41</th>\n",
       "      <td>6001</td>\n",
       "      <td>Alameda County</td>\n",
       "      <td>2127.222169</td>\n",
       "      <td>POLYGON ((-122.28089 37.70723, -122.28179 37.7...</td>\n",
       "      <td>1666753</td>\n",
       "      <td>145696</td>\n",
       "      <td>37.3</td>\n",
       "      <td>783.534990</td>\n",
       "    </tr>\n",
       "    <tr>\n",
       "      <th>42</th>\n",
       "      <td>6057</td>\n",
       "      <td>Nevada County</td>\n",
       "      <td>2522.119281</td>\n",
       "      <td>POLYGON ((-120.71376 39.48279, -120.71371 39.4...</td>\n",
       "      <td>99696</td>\n",
       "      <td>5177</td>\n",
       "      <td>49.8</td>\n",
       "      <td>39.528662</td>\n",
       "    </tr>\n",
       "    <tr>\n",
       "      <th>43</th>\n",
       "      <td>6007</td>\n",
       "      <td>Butte County</td>\n",
       "      <td>4343.751657</td>\n",
       "      <td>POLYGON ((-121.85651 39.53359, -121.85639 39.5...</td>\n",
       "      <td>231256</td>\n",
       "      <td>6860</td>\n",
       "      <td>36.9</td>\n",
       "      <td>53.238771</td>\n",
       "    </tr>\n",
       "    <tr>\n",
       "      <th>44</th>\n",
       "      <td>6047</td>\n",
       "      <td>Merced County</td>\n",
       "      <td>5124.686080</td>\n",
       "      <td>POLYGON ((-120.68160 37.51863, -120.67692 37.5...</td>\n",
       "      <td>274765</td>\n",
       "      <td>5933</td>\n",
       "      <td>30.8</td>\n",
       "      <td>53.615967</td>\n",
       "    </tr>\n",
       "    <tr>\n",
       "      <th>45</th>\n",
       "      <td>6107</td>\n",
       "      <td>Tulare County</td>\n",
       "      <td>12532.099811</td>\n",
       "      <td>POLYGON ((-118.80374 35.79035, -118.80497 35.7...</td>\n",
       "      <td>465861</td>\n",
       "      <td>9056</td>\n",
       "      <td>30.6</td>\n",
       "      <td>37.173419</td>\n",
       "    </tr>\n",
       "    <tr>\n",
       "      <th>46</th>\n",
       "      <td>6099</td>\n",
       "      <td>Stanislaus County</td>\n",
       "      <td>3921.020267</td>\n",
       "      <td>POLYGON ((-120.92226 37.73748, -120.92160 37.7...</td>\n",
       "      <td>549815</td>\n",
       "      <td>14864</td>\n",
       "      <td>33.9</td>\n",
       "      <td>140.222433</td>\n",
       "    </tr>\n",
       "    <tr>\n",
       "      <th>47</th>\n",
       "      <td>6059</td>\n",
       "      <td>Orange County</td>\n",
       "      <td>2455.308632</td>\n",
       "      <td>POLYGON ((-117.98911 33.58580, -117.99068 33.5...</td>\n",
       "      <td>3185968</td>\n",
       "      <td>233459</td>\n",
       "      <td>37.5</td>\n",
       "      <td>1297.583513</td>\n",
       "    </tr>\n",
       "    <tr>\n",
       "      <th>48</th>\n",
       "      <td>6025</td>\n",
       "      <td>Imperial County</td>\n",
       "      <td>11607.467851</td>\n",
       "      <td>POLYGON ((-115.33556 32.67611, -115.33577 32.6...</td>\n",
       "      <td>181827</td>\n",
       "      <td>3073</td>\n",
       "      <td>32.2</td>\n",
       "      <td>15.664657</td>\n",
       "    </tr>\n",
       "    <tr>\n",
       "      <th>49</th>\n",
       "      <td>6101</td>\n",
       "      <td>Sutter County</td>\n",
       "      <td>1575.981613</td>\n",
       "      <td>POLYGON ((-121.92835 39.19873, -121.92873 39.1...</td>\n",
       "      <td>96807</td>\n",
       "      <td>2720</td>\n",
       "      <td>35.7</td>\n",
       "      <td>61.426478</td>\n",
       "    </tr>\n",
       "    <tr>\n",
       "      <th>50</th>\n",
       "      <td>6005</td>\n",
       "      <td>Amador County</td>\n",
       "      <td>1569.404454</td>\n",
       "      <td>POLYGON ((-121.02730 38.48137, -121.02730 38.4...</td>\n",
       "      <td>39383</td>\n",
       "      <td>1220</td>\n",
       "      <td>50.6</td>\n",
       "      <td>25.094232</td>\n",
       "    </tr>\n",
       "    <tr>\n",
       "      <th>51</th>\n",
       "      <td>6033</td>\n",
       "      <td>Lake County</td>\n",
       "      <td>3443.201504</td>\n",
       "      <td>POLYGON ((-123.06516 39.05919, -123.06516 39.0...</td>\n",
       "      <td>64382</td>\n",
       "      <td>1292</td>\n",
       "      <td>45.8</td>\n",
       "      <td>18.698296</td>\n",
       "    </tr>\n",
       "    <tr>\n",
       "      <th>52</th>\n",
       "      <td>6063</td>\n",
       "      <td>Plumas County</td>\n",
       "      <td>6768.793522</td>\n",
       "      <td>POLYGON ((-121.36702 40.07768, -121.36690 40.0...</td>\n",
       "      <td>18804</td>\n",
       "      <td>642</td>\n",
       "      <td>52.1</td>\n",
       "      <td>2.778043</td>\n",
       "    </tr>\n",
       "    <tr>\n",
       "      <th>53</th>\n",
       "      <td>6081</td>\n",
       "      <td>San Mateo County</td>\n",
       "      <td>1919.075795</td>\n",
       "      <td>POLYGON ((-122.58712 37.58755, -122.58680 37.5...</td>\n",
       "      <td>769545</td>\n",
       "      <td>90392</td>\n",
       "      <td>39.6</td>\n",
       "      <td>400.997711</td>\n",
       "    </tr>\n",
       "    <tr>\n",
       "      <th>54</th>\n",
       "      <td>6093</td>\n",
       "      <td>Siskiyou County</td>\n",
       "      <td>16441.085844</td>\n",
       "      <td>POLYGON ((-122.87088 42.00397, -122.86814 42.0...</td>\n",
       "      <td>43724</td>\n",
       "      <td>900</td>\n",
       "      <td>47.9</td>\n",
       "      <td>2.659435</td>\n",
       "    </tr>\n",
       "    <tr>\n",
       "      <th>55</th>\n",
       "      <td>6087</td>\n",
       "      <td>Santa Cruz County</td>\n",
       "      <td>1572.534914</td>\n",
       "      <td>POLYGON ((-122.21670 37.21521, -122.21652 37.2...</td>\n",
       "      <td>274255</td>\n",
       "      <td>19628</td>\n",
       "      <td>37.3</td>\n",
       "      <td>174.403123</td>\n",
       "    </tr>\n",
       "    <tr>\n",
       "      <th>56</th>\n",
       "      <td>6021</td>\n",
       "      <td>Glenn County</td>\n",
       "      <td>3436.853665</td>\n",
       "      <td>POLYGON ((-122.89095 39.64488, -122.89135 39.6...</td>\n",
       "      <td>28047</td>\n",
       "      <td>465</td>\n",
       "      <td>36.8</td>\n",
       "      <td>8.160662</td>\n",
       "    </tr>\n",
       "    <tr>\n",
       "      <th>57</th>\n",
       "      <td>6079</td>\n",
       "      <td>San Luis Obispo County</td>\n",
       "      <td>9364.134967</td>\n",
       "      <td>POLYGON ((-121.18507 35.79417, -121.18464 35.7...</td>\n",
       "      <td>284010</td>\n",
       "      <td>15110</td>\n",
       "      <td>39.0</td>\n",
       "      <td>30.329550</td>\n",
       "    </tr>\n",
       "  </tbody>\n",
       "</table>\n",
       "</div>"
      ],
      "text/plain": [
       "    GEOID                    name     area_sqkm  \\\n",
       "0    6091           Sierra County   2491.995494   \n",
       "1    6067       Sacramento County   2575.258262   \n",
       "2    6083    Santa Barbara County   9813.817958   \n",
       "3    6009        Calaveras County   2685.626726   \n",
       "4    6111          Ventura County   5719.321379   \n",
       "5    6037      Los Angeles County  12305.376879   \n",
       "6    6097           Sonoma County   4578.952090   \n",
       "7    6031            Kings County   3604.052342   \n",
       "8    6073        San Diego County  11721.342229   \n",
       "9    6061           Placer County   3890.821444   \n",
       "10   6075    San Francisco County    600.588247   \n",
       "11   6041            Marin County   2145.002294   \n",
       "12   6043         Mariposa County   3788.688968   \n",
       "13   6035           Lassen County  12225.045695   \n",
       "14   6055             Napa County   2042.415083   \n",
       "15   6089           Shasta County   9964.716292   \n",
       "16   6053         Monterey County   9767.393438   \n",
       "17   6105          Trinity County   8307.671238   \n",
       "18   6045        Mendocino County  10044.373925   \n",
       "19   6027             Inyo County  26487.624002   \n",
       "20   6051             Mono County   8111.550582   \n",
       "21   6109         Tuolumne County   5890.813071   \n",
       "22   6095           Solano County   2347.025927   \n",
       "23   6071   San Bernardino County  52071.981221   \n",
       "24   6013     Contra Costa County   2081.751097   \n",
       "25   6003           Alpine County   1924.850289   \n",
       "26   6017        El Dorado County   4626.620916   \n",
       "27   6113             Yolo County   2650.946044   \n",
       "28   6115             Yuba County   1667.972300   \n",
       "29   6069       San Benito County   3601.312522   \n",
       "30   6023         Humboldt County  10495.292352   \n",
       "31   6065        Riverside County  18915.139886   \n",
       "32   6029             Kern County  21141.170481   \n",
       "33   6011           Colusa County   2994.955672   \n",
       "34   6015        Del Norte County   3184.863169   \n",
       "35   6049            Modoc County  10886.381318   \n",
       "36   6019           Fresno County  15568.553545   \n",
       "37   6039           Madera County   5577.056670   \n",
       "38   6085      Santa Clara County   3377.487898   \n",
       "39   6103           Tehama County   7671.997090   \n",
       "40   6077      San Joaquin County   3695.304050   \n",
       "41   6001          Alameda County   2127.222169   \n",
       "42   6057           Nevada County   2522.119281   \n",
       "43   6007            Butte County   4343.751657   \n",
       "44   6047           Merced County   5124.686080   \n",
       "45   6107           Tulare County  12532.099811   \n",
       "46   6099       Stanislaus County   3921.020267   \n",
       "47   6059           Orange County   2455.308632   \n",
       "48   6025         Imperial County  11607.467851   \n",
       "49   6101           Sutter County   1575.981613   \n",
       "50   6005           Amador County   1569.404454   \n",
       "51   6033             Lake County   3443.201504   \n",
       "52   6063           Plumas County   6768.793522   \n",
       "53   6081        San Mateo County   1919.075795   \n",
       "54   6093         Siskiyou County  16441.085844   \n",
       "55   6087       Santa Cruz County   1572.534914   \n",
       "56   6021            Glenn County   3436.853665   \n",
       "57   6079  San Luis Obispo County   9364.134967   \n",
       "\n",
       "                                             geometry  population  \\\n",
       "0   POLYGON ((-120.65560 39.69357, -120.65554 39.6...        2987   \n",
       "1   POLYGON ((-121.18858 38.71431, -121.18732 38.7...     1540975   \n",
       "2   MULTIPOLYGON (((-120.58191 34.09856, -120.5822...      446527   \n",
       "3   POLYGON ((-120.63095 38.34111, -120.63058 38.3...       45602   \n",
       "4   MULTIPOLYGON (((-119.63631 33.27304, -119.6360...      850967   \n",
       "5   MULTIPOLYGON (((-118.66761 33.47749, -118.6682...    10105518   \n",
       "6   POLYGON ((-122.93507 38.31396, -122.93511 38.3...      499942   \n",
       "7   POLYGON ((-119.95894 36.25547, -119.95894 36.2...      151366   \n",
       "8   POLYGON ((-117.43744 33.17953, -117.44955 33.1...     3343364   \n",
       "9   POLYGON ((-121.06545 39.00654, -121.06538 39.0...      393149   \n",
       "10  MULTIPOLYGON (((-122.60025 37.80249, -122.6123...      883305   \n",
       "11  POLYGON ((-122.78640 37.88695, -122.78705 37.8...      259666   \n",
       "12  POLYGON ((-120.32154 37.52441, -120.32158 37.5...       17471   \n",
       "13  POLYGON ((-121.32192 40.65496, -121.32182 40.6...       30802   \n",
       "14  POLYGON ((-122.46390 38.70521, -122.46390 38.7...      139417   \n",
       "15  POLYGON ((-122.61528 40.88107, -122.61474 40.8...      180040   \n",
       "16  POLYGON ((-122.02682 36.54641, -122.02703 36.5...      435594   \n",
       "17  POLYGON ((-123.54397 40.73294, -123.54387 40.7...       12535   \n",
       "18  POLYGON ((-123.83842 39.55492, -123.83967 39.5...       87606   \n",
       "19  POLYGON ((-118.33759 36.65481, -118.33774 36.6...       17987   \n",
       "20  POLYGON ((-119.30892 38.00715, -119.30887 38.0...       14250   \n",
       "21  POLYGON ((-120.50017 38.00413, -120.50027 38.0...       54539   \n",
       "22  POLYGON ((-122.06479 38.31592, -122.06509 38.3...      446610   \n",
       "23  POLYGON ((-117.66726 34.73434, -117.66725 34.7...     2171603   \n",
       "24  POLYGON ((-122.26766 37.90425, -122.26782 37.9...     1150215   \n",
       "25  POLYGON ((-120.07334 38.70110, -120.07325 38.7...        1101   \n",
       "26  POLYGON ((-121.11863 38.71712, -121.11878 38.7...      190678   \n",
       "27  POLYGON ((-122.16496 38.64247, -122.16399 38.6...      220408   \n",
       "28  POLYGON ((-121.59769 39.12780, -121.59782 39.1...       78041   \n",
       "29  POLYGON ((-121.48301 36.76505, -121.48352 36.7...       61537   \n",
       "30  POLYGON ((-124.28141 40.79915, -124.28019 40.7...      136373   \n",
       "31  POLYGON ((-117.67285 33.86991, -117.67289 33.8...     2450758   \n",
       "32  POLYGON ((-119.91367 35.43927, -119.92328 35.4...      896764   \n",
       "33  POLYGON ((-122.08020 39.41421, -122.07998 39.4...       21627   \n",
       "34  POLYGON ((-124.31613 41.72840, -124.33062 41.7...       27828   \n",
       "35  POLYGON ((-120.15942 41.99461, -120.15925 41.9...        8777   \n",
       "36  POLYGON ((-119.70537 36.99980, -119.70503 37.0...      994400   \n",
       "37  POLYGON ((-120.10640 37.16716, -120.10579 37.1...      157672   \n",
       "38  POLYGON ((-122.04413 37.20050, -122.04410 37.2...     1937570   \n",
       "39  POLYGON ((-122.37149 40.37261, -122.37047 40.3...       63916   \n",
       "40  POLYGON ((-121.20790 38.24882, -121.20704 38.2...      752660   \n",
       "41  POLYGON ((-122.28089 37.70723, -122.28179 37.7...     1666753   \n",
       "42  POLYGON ((-120.71376 39.48279, -120.71371 39.4...       99696   \n",
       "43  POLYGON ((-121.85651 39.53359, -121.85639 39.5...      231256   \n",
       "44  POLYGON ((-120.68160 37.51863, -120.67692 37.5...      274765   \n",
       "45  POLYGON ((-118.80374 35.79035, -118.80497 35.7...      465861   \n",
       "46  POLYGON ((-120.92226 37.73748, -120.92160 37.7...      549815   \n",
       "47  POLYGON ((-117.98911 33.58580, -117.99068 33.5...     3185968   \n",
       "48  POLYGON ((-115.33556 32.67611, -115.33577 32.6...      181827   \n",
       "49  POLYGON ((-121.92835 39.19873, -121.92873 39.1...       96807   \n",
       "50  POLYGON ((-121.02730 38.48137, -121.02730 38.4...       39383   \n",
       "51  POLYGON ((-123.06516 39.05919, -123.06516 39.0...       64382   \n",
       "52  POLYGON ((-121.36702 40.07768, -121.36690 40.0...       18804   \n",
       "53  POLYGON ((-122.58712 37.58755, -122.58680 37.5...      769545   \n",
       "54  POLYGON ((-122.87088 42.00397, -122.86814 42.0...       43724   \n",
       "55  POLYGON ((-122.21670 37.21521, -122.21652 37.2...      274255   \n",
       "56  POLYGON ((-122.89095 39.64488, -122.89135 39.6...       28047   \n",
       "57  POLYGON ((-121.18507 35.79417, -121.18464 35.7...      284010   \n",
       "\n",
       "    high_earners  median_age      density  \n",
       "0            111        55.0     1.198638  \n",
       "1          65768        35.9   598.376878  \n",
       "2          25231        33.7    45.499825  \n",
       "3           2046        51.6    16.980022  \n",
       "4          57121        37.5   148.788107  \n",
       "5         501413        36.0   821.227834  \n",
       "6          32713        41.4   109.182623  \n",
       "7           2943        31.5    41.998835  \n",
       "8         194676        35.4   285.237299  \n",
       "9          28334        41.6   101.045243  \n",
       "10        114989        38.3  1470.733077  \n",
       "11         36709        46.1   121.056281  \n",
       "12           435        51.1     4.611358  \n",
       "13           794        36.2     2.519582  \n",
       "14         10577        40.8    68.260855  \n",
       "15          5559        41.8    18.067750  \n",
       "16         17144        33.9    44.596750  \n",
       "17           261        51.4     1.508846  \n",
       "18          2317        42.4     8.721898  \n",
       "19           517        45.6     0.679072  \n",
       "20           376        38.3     1.756754  \n",
       "21          2059        48.6     9.258314  \n",
       "22         23192        37.7   190.287629  \n",
       "23         62380        32.9    41.703867  \n",
       "24        100758        39.2   552.522827  \n",
       "25            30        44.9     0.571993  \n",
       "26         13490        45.5    41.213232  \n",
       "27         11669        30.9    83.143148  \n",
       "28          1673        32.4    46.787947  \n",
       "29          3088        35.4    17.087381  \n",
       "30          3101        37.7    12.993730  \n",
       "31         84359        35.0   129.565946  \n",
       "32         23553        31.3    42.417897  \n",
       "33           673        34.7     7.221142  \n",
       "34           464        38.7     8.737581  \n",
       "35            87        47.8     0.806237  \n",
       "36         27004        31.8    63.872344  \n",
       "37          2934        33.7    28.271543  \n",
       "38        221273        37.0   573.671930  \n",
       "39          1394        41.1     8.331077  \n",
       "40         24530        33.9   203.680127  \n",
       "41        145696        37.3   783.534990  \n",
       "42          5177        49.8    39.528662  \n",
       "43          6860        36.9    53.238771  \n",
       "44          5933        30.8    53.615967  \n",
       "45          9056        30.6    37.173419  \n",
       "46         14864        33.9   140.222433  \n",
       "47        233459        37.5  1297.583513  \n",
       "48          3073        32.2    15.664657  \n",
       "49          2720        35.7    61.426478  \n",
       "50          1220        50.6    25.094232  \n",
       "51          1292        45.8    18.698296  \n",
       "52           642        52.1     2.778043  \n",
       "53         90392        39.6   400.997711  \n",
       "54           900        47.9     2.659435  \n",
       "55         19628        37.3   174.403123  \n",
       "56           465        36.8     8.160662  \n",
       "57         15110        39.0    30.329550  "
      ]
     },
     "execution_count": 14,
     "metadata": {},
     "output_type": "execute_result"
    }
   ],
   "source": [
    "CA_stats[\"density\"] = CA_stats[\"population\"] / CA_stats[\"area_sqkm\"]\n",
    "CA_stats"
   ]
  },
  {
   "cell_type": "markdown",
   "id": "1cff104c",
   "metadata": {
    "papermill": {
     "duration": 0.015195,
     "end_time": "2022-06-01T11:35:08.524860",
     "exception": false,
     "start_time": "2022-06-01T11:35:08.509665",
     "status": "completed"
    },
    "tags": []
   },
   "source": [
    "### 4) Which counties look promising?\n",
    "\n",
    "Collapsing all of the information into a single GeoDataFrame also makes it much easier to select counties that meet specific criteria.\n",
    "\n",
    "Use the next code cell to create a GeoDataFrame `sel_counties` that contains a subset of the rows (and all of the columns) from the `CA_stats` GeoDataFrame.  In particular, you should select counties where:\n",
    "- there are at least 100,000 households making \\$150,000 per year,\n",
    "- the median age is less than 38.5, and\n",
    "- the density of inhabitants is at least 285 (per square kilometer).\n",
    "\n",
    "Additionally, selected counties should satisfy at least one of the following criteria:\n",
    "- there are at least 500,000 households making \\$150,000 per year,\n",
    "- the median age is less than 35.5, or\n",
    "- the density of inhabitants is at least 1400 (per square kilometer)."
   ]
  },
  {
   "cell_type": "code",
   "execution_count": 15,
   "id": "5e5e727d",
   "metadata": {
    "execution": {
     "iopub.execute_input": "2022-06-01T11:35:08.553536Z",
     "iopub.status.busy": "2022-06-01T11:35:08.553151Z",
     "iopub.status.idle": "2022-06-01T11:35:08.632438Z",
     "shell.execute_reply": "2022-06-01T11:35:08.631655Z"
    },
    "papermill": {
     "duration": 0.095721,
     "end_time": "2022-06-01T11:35:08.634518",
     "exception": false,
     "start_time": "2022-06-01T11:35:08.538797",
     "status": "completed"
    },
    "tags": []
   },
   "outputs": [
    {
     "data": {
      "application/javascript": [
       "parent.postMessage({\"jupyterEvent\": \"custom.exercise_interaction\", \"data\": {\"outcomeType\": 1, \"valueTowardsCompletion\": 0.2, \"interactionType\": 1, \"questionType\": 2, \"questionId\": \"4_Q4\", \"learnToolsVersion\": \"0.3.4\", \"failureMessage\": \"\", \"exceptionClass\": \"\", \"trace\": \"\"}}, \"*\")"
      ],
      "text/plain": [
       "<IPython.core.display.Javascript object>"
      ]
     },
     "metadata": {},
     "output_type": "display_data"
    },
    {
     "data": {
      "text/markdown": [
       "<span style=\"color:#33cc33\">Correct</span>"
      ],
      "text/plain": [
       "Correct"
      ]
     },
     "metadata": {},
     "output_type": "display_data"
    },
    {
     "data": {
      "text/html": [
       "<div>\n",
       "<style scoped>\n",
       "    .dataframe tbody tr th:only-of-type {\n",
       "        vertical-align: middle;\n",
       "    }\n",
       "\n",
       "    .dataframe tbody tr th {\n",
       "        vertical-align: top;\n",
       "    }\n",
       "\n",
       "    .dataframe thead th {\n",
       "        text-align: right;\n",
       "    }\n",
       "</style>\n",
       "<table border=\"1\" class=\"dataframe\">\n",
       "  <thead>\n",
       "    <tr style=\"text-align: right;\">\n",
       "      <th></th>\n",
       "      <th>GEOID</th>\n",
       "      <th>name</th>\n",
       "      <th>area_sqkm</th>\n",
       "      <th>geometry</th>\n",
       "      <th>population</th>\n",
       "      <th>high_earners</th>\n",
       "      <th>median_age</th>\n",
       "      <th>density</th>\n",
       "    </tr>\n",
       "  </thead>\n",
       "  <tbody>\n",
       "    <tr>\n",
       "      <th>5</th>\n",
       "      <td>6037</td>\n",
       "      <td>Los Angeles County</td>\n",
       "      <td>12305.376879</td>\n",
       "      <td>MULTIPOLYGON (((-118.66761 33.47749, -118.6682...</td>\n",
       "      <td>10105518</td>\n",
       "      <td>501413</td>\n",
       "      <td>36.0</td>\n",
       "      <td>821.227834</td>\n",
       "    </tr>\n",
       "    <tr>\n",
       "      <th>8</th>\n",
       "      <td>6073</td>\n",
       "      <td>San Diego County</td>\n",
       "      <td>11721.342229</td>\n",
       "      <td>POLYGON ((-117.43744 33.17953, -117.44955 33.1...</td>\n",
       "      <td>3343364</td>\n",
       "      <td>194676</td>\n",
       "      <td>35.4</td>\n",
       "      <td>285.237299</td>\n",
       "    </tr>\n",
       "    <tr>\n",
       "      <th>10</th>\n",
       "      <td>6075</td>\n",
       "      <td>San Francisco County</td>\n",
       "      <td>600.588247</td>\n",
       "      <td>MULTIPOLYGON (((-122.60025 37.80249, -122.6123...</td>\n",
       "      <td>883305</td>\n",
       "      <td>114989</td>\n",
       "      <td>38.3</td>\n",
       "      <td>1470.733077</td>\n",
       "    </tr>\n",
       "  </tbody>\n",
       "</table>\n",
       "</div>"
      ],
      "text/plain": [
       "    GEOID                  name     area_sqkm  \\\n",
       "5    6037    Los Angeles County  12305.376879   \n",
       "8    6073      San Diego County  11721.342229   \n",
       "10   6075  San Francisco County    600.588247   \n",
       "\n",
       "                                             geometry  population  \\\n",
       "5   MULTIPOLYGON (((-118.66761 33.47749, -118.6682...    10105518   \n",
       "8   POLYGON ((-117.43744 33.17953, -117.44955 33.1...     3343364   \n",
       "10  MULTIPOLYGON (((-122.60025 37.80249, -122.6123...      883305   \n",
       "\n",
       "    high_earners  median_age      density  \n",
       "5         501413        36.0   821.227834  \n",
       "8         194676        35.4   285.237299  \n",
       "10        114989        38.3  1470.733077  "
      ]
     },
     "execution_count": 15,
     "metadata": {},
     "output_type": "execute_result"
    }
   ],
   "source": [
    "# Your code here\n",
    "sel_counties = CA_stats[((CA_stats.high_earners > 100000) &\n",
    "                         (CA_stats.median_age < 38.5) &\n",
    "                         (CA_stats.density > 285) &\n",
    "                         ((CA_stats.median_age < 35.5) |\n",
    "                         (CA_stats.density > 1400) |\n",
    "                         (CA_stats.high_earners > 500000)))]\n",
    "\n",
    "# Check your answer\n",
    "q_4.check()\n",
    "sel_counties"
   ]
  },
  {
   "cell_type": "code",
   "execution_count": 16,
   "id": "7e551a96",
   "metadata": {
    "execution": {
     "iopub.execute_input": "2022-06-01T11:35:08.663936Z",
     "iopub.status.busy": "2022-06-01T11:35:08.663488Z",
     "iopub.status.idle": "2022-06-01T11:35:08.666945Z",
     "shell.execute_reply": "2022-06-01T11:35:08.666221Z"
    },
    "papermill": {
     "duration": 0.020389,
     "end_time": "2022-06-01T11:35:08.669064",
     "exception": false,
     "start_time": "2022-06-01T11:35:08.648675",
     "status": "completed"
    },
    "tags": []
   },
   "outputs": [],
   "source": [
    "# Lines below will give you a hint or solution code\n",
    "#q_4.hint()\n",
    "#q_4.solution()"
   ]
  },
  {
   "cell_type": "markdown",
   "id": "69ad25e9",
   "metadata": {
    "papermill": {
     "duration": 0.01332,
     "end_time": "2022-06-01T11:35:08.696101",
     "exception": false,
     "start_time": "2022-06-01T11:35:08.682781",
     "status": "completed"
    },
    "tags": []
   },
   "source": [
    "### 5) How many stores did you identify?\n",
    "\n",
    "When looking for the next Starbucks Reserve Roastery location, you'd like to consider all of the stores within the counties that you selected.  So, how many stores are within the selected counties?\n",
    "\n",
    "To prepare to answer this question, run the next code cell to create a GeoDataFrame `starbucks_gdf` with all of the starbucks locations."
   ]
  },
  {
   "cell_type": "code",
   "execution_count": 17,
   "id": "24a8cebf",
   "metadata": {
    "execution": {
     "iopub.execute_input": "2022-06-01T11:35:08.724948Z",
     "iopub.status.busy": "2022-06-01T11:35:08.724515Z",
     "iopub.status.idle": "2022-06-01T11:35:08.741257Z",
     "shell.execute_reply": "2022-06-01T11:35:08.740517Z"
    },
    "papermill": {
     "duration": 0.03446,
     "end_time": "2022-06-01T11:35:08.744169",
     "exception": false,
     "start_time": "2022-06-01T11:35:08.709709",
     "status": "completed"
    },
    "tags": []
   },
   "outputs": [
    {
     "name": "stderr",
     "output_type": "stream",
     "text": [
      "/opt/conda/lib/python3.7/site-packages/pyproj/crs/crs.py:68: FutureWarning: '+init=<authority>:<code>' syntax is deprecated. '<authority>:<code>' is the preferred initialization method. When making the change, be mindful of axis order changes: https://pyproj4.github.io/pyproj/stable/gotchas.html#axis-order-changes-in-proj-6\n",
      "  return _prepare_from_string(\" \".join(pjargs))\n"
     ]
    }
   ],
   "source": [
    "starbucks_gdf = gpd.GeoDataFrame(starbucks, geometry=gpd.points_from_xy(starbucks.Longitude, starbucks.Latitude))\n",
    "starbucks_gdf.crs = {'init': 'epsg:4326'}\n"
   ]
  },
  {
   "cell_type": "markdown",
   "id": "711dfc1d",
   "metadata": {
    "papermill": {
     "duration": 0.013624,
     "end_time": "2022-06-01T11:35:08.772064",
     "exception": false,
     "start_time": "2022-06-01T11:35:08.758440",
     "status": "completed"
    },
    "tags": []
   },
   "source": [
    "So, how many stores are in the counties you selected?"
   ]
  },
  {
   "cell_type": "code",
   "execution_count": 18,
   "id": "c7799775",
   "metadata": {
    "execution": {
     "iopub.execute_input": "2022-06-01T11:35:08.802493Z",
     "iopub.status.busy": "2022-06-01T11:35:08.801337Z",
     "iopub.status.idle": "2022-06-01T11:35:08.905654Z",
     "shell.execute_reply": "2022-06-01T11:35:08.904364Z"
    },
    "papermill": {
     "duration": 0.121768,
     "end_time": "2022-06-01T11:35:08.907921",
     "exception": false,
     "start_time": "2022-06-01T11:35:08.786153",
     "status": "completed"
    },
    "tags": []
   },
   "outputs": [
    {
     "data": {
      "application/javascript": [
       "parent.postMessage({\"jupyterEvent\": \"custom.exercise_interaction\", \"data\": {\"outcomeType\": 1, \"valueTowardsCompletion\": 0.2, \"interactionType\": 1, \"questionType\": 2, \"questionId\": \"5_Q5\", \"learnToolsVersion\": \"0.3.4\", \"failureMessage\": \"\", \"exceptionClass\": \"\", \"trace\": \"\"}}, \"*\")"
      ],
      "text/plain": [
       "<IPython.core.display.Javascript object>"
      ]
     },
     "metadata": {},
     "output_type": "display_data"
    },
    {
     "data": {
      "text/markdown": [
       "<span style=\"color:#33cc33\">Correct</span>"
      ],
      "text/plain": [
       "Correct"
      ]
     },
     "metadata": {},
     "output_type": "display_data"
    }
   ],
   "source": [
    "# Fill in your answer\n",
    "location_of_interst = gpd.sjoin(starbucks_gdf,sel_counties)\n",
    "num_stores = len(location_of_interst)\n",
    "\n",
    "# Check your answer\n",
    "q_5.check()"
   ]
  },
  {
   "cell_type": "code",
   "execution_count": 19,
   "id": "e39d072e",
   "metadata": {
    "execution": {
     "iopub.execute_input": "2022-06-01T11:35:08.937323Z",
     "iopub.status.busy": "2022-06-01T11:35:08.936941Z",
     "iopub.status.idle": "2022-06-01T11:35:08.940703Z",
     "shell.execute_reply": "2022-06-01T11:35:08.939840Z"
    },
    "papermill": {
     "duration": 0.021321,
     "end_time": "2022-06-01T11:35:08.942895",
     "exception": false,
     "start_time": "2022-06-01T11:35:08.921574",
     "status": "completed"
    },
    "tags": []
   },
   "outputs": [],
   "source": [
    "# Lines below will give you a hint or solution code\n",
    "#q_5.hint()\n",
    "#q_5.solution()"
   ]
  },
  {
   "cell_type": "markdown",
   "id": "c9f8b652",
   "metadata": {
    "papermill": {
     "duration": 0.013964,
     "end_time": "2022-06-01T11:35:08.970710",
     "exception": false,
     "start_time": "2022-06-01T11:35:08.956746",
     "status": "completed"
    },
    "tags": []
   },
   "source": [
    "### 6) Visualize the store locations.\n",
    "\n",
    "Create a map that shows the locations of the stores that you identified in the previous question."
   ]
  },
  {
   "cell_type": "code",
   "execution_count": 20,
   "id": "49271419",
   "metadata": {
    "execution": {
     "iopub.execute_input": "2022-06-01T11:35:09.000317Z",
     "iopub.status.busy": "2022-06-01T11:35:08.999680Z",
     "iopub.status.idle": "2022-06-01T11:35:09.891026Z",
     "shell.execute_reply": "2022-06-01T11:35:09.890161Z"
    },
    "papermill": {
     "duration": 0.908951,
     "end_time": "2022-06-01T11:35:09.893342",
     "exception": false,
     "start_time": "2022-06-01T11:35:08.984391",
     "status": "completed"
    },
    "tags": []
   },
   "outputs": [
    {
     "data": {
      "text/html": [
       "\n",
       "        <iframe\n",
       "            width=\"100%\"\n",
       "            height=\"500px\"\n",
       "            src=\"q_6.html\"\n",
       "            frameborder=\"0\"\n",
       "            allowfullscreen\n",
       "            \n",
       "        ></iframe>\n",
       "        "
      ],
      "text/plain": [
       "<IPython.lib.display.IFrame at 0x7f36f8d95710>"
      ]
     },
     "execution_count": 20,
     "metadata": {},
     "output_type": "execute_result"
    }
   ],
   "source": [
    "# Create a base map\n",
    "m_6 = folium.Map(location=[37,-120], zoom_start=6)\n",
    "\n",
    "# Your code here: show selected store locations\n",
    "mc = MarkerCluster()\n",
    "location_of_interest = gpd.sjoin(starbucks_gdf,sel_counties)\n",
    "for idx, row in location_of_interest.iterrows():\n",
    "    if not math.isnan(row['Longitude']) and not math.isnan(row['Latitude']):\n",
    "        mc.add_child(folium.Marker([row['Latitude'], row['Longitude']]))\n",
    "m_6.add_child(mc)\n",
    "# Uncomment to see a hint\n",
    "#q_6.hint()\n",
    "\n",
    "# Show the map\n",
    "embed_map(m_6, 'q_6.html')"
   ]
  },
  {
   "cell_type": "code",
   "execution_count": 21,
   "id": "2961c882",
   "metadata": {
    "execution": {
     "iopub.execute_input": "2022-06-01T11:35:09.923393Z",
     "iopub.status.busy": "2022-06-01T11:35:09.922848Z",
     "iopub.status.idle": "2022-06-01T11:35:09.931769Z",
     "shell.execute_reply": "2022-06-01T11:35:09.931084Z"
    },
    "papermill": {
     "duration": 0.025745,
     "end_time": "2022-06-01T11:35:09.933537",
     "exception": false,
     "start_time": "2022-06-01T11:35:09.907792",
     "status": "completed"
    },
    "tags": []
   },
   "outputs": [
    {
     "data": {
      "application/javascript": [
       "parent.postMessage({\"jupyterEvent\": \"custom.exercise_interaction\", \"data\": {\"outcomeType\": 1, \"valueTowardsCompletion\": 0.2, \"interactionType\": 1, \"questionType\": 2, \"questionId\": \"6_Q6\", \"learnToolsVersion\": \"0.3.4\", \"failureMessage\": \"\", \"exceptionClass\": \"\", \"trace\": \"\"}}, \"*\")"
      ],
      "text/plain": [
       "<IPython.core.display.Javascript object>"
      ]
     },
     "metadata": {},
     "output_type": "display_data"
    },
    {
     "data": {
      "text/markdown": [
       "<span style=\"color:#33cc33\">Thank you for creating a map!</span>"
      ],
      "text/plain": [
       "Thank you for creating a map!"
      ]
     },
     "metadata": {},
     "output_type": "display_data"
    },
    {
     "data": {
      "application/javascript": [
       "parent.postMessage({\"jupyterEvent\": \"custom.exercise_interaction\", \"data\": {\"interactionType\": 3, \"questionType\": 2, \"questionId\": \"6_Q6\", \"learnToolsVersion\": \"0.3.4\", \"valueTowardsCompletion\": 0.0, \"failureMessage\": \"\", \"exceptionClass\": \"\", \"trace\": \"\", \"outcomeType\": 4}}, \"*\")"
      ],
      "text/plain": [
       "<IPython.core.display.Javascript object>"
      ]
     },
     "metadata": {},
     "output_type": "display_data"
    },
    {
     "data": {
      "text/markdown": [
       "<span style=\"color:#33cc99\">Solution:</span> \n",
       "```python\n",
       "# Show selected store locations\n",
       "mc = MarkerCluster()\n",
       "\n",
       "locations_of_interest = gpd.sjoin(starbucks_gdf, sel_counties)\n",
       "for idx, row in locations_of_interest.iterrows():\n",
       "    if not math.isnan(row['Longitude']) and not math.isnan(row['Latitude']):\n",
       "        mc.add_child(folium.Marker([row['Latitude'], row['Longitude']]))\n",
       "        \n",
       "m_6.add_child(mc)\n",
       "\n",
       "```"
      ],
      "text/plain": [
       "Solution: \n",
       "```python\n",
       "# Show selected store locations\n",
       "mc = MarkerCluster()\n",
       "\n",
       "locations_of_interest = gpd.sjoin(starbucks_gdf, sel_counties)\n",
       "for idx, row in locations_of_interest.iterrows():\n",
       "    if not math.isnan(row['Longitude']) and not math.isnan(row['Latitude']):\n",
       "        mc.add_child(folium.Marker([row['Latitude'], row['Longitude']]))\n",
       "        \n",
       "m_6.add_child(mc)\n",
       "\n",
       "```"
      ]
     },
     "metadata": {},
     "output_type": "display_data"
    }
   ],
   "source": [
    "# Get credit for your work after you have created a map\n",
    "q_6.check()\n",
    "\n",
    "# Uncomment to see our solution (your code may look different!)\n",
    "q_6.solution()"
   ]
  },
  {
   "cell_type": "markdown",
   "id": "5cfa8baf",
   "metadata": {
    "papermill": {
     "duration": 0.01519,
     "end_time": "2022-06-01T11:35:09.964345",
     "exception": false,
     "start_time": "2022-06-01T11:35:09.949155",
     "status": "completed"
    },
    "tags": []
   },
   "source": [
    "# Keep going\n",
    "\n",
    "Learn about how **[proximity analysis](https://www.kaggle.com/alexisbcook/proximity-analysis)** can help you to understand the relationships between points on a map."
   ]
  },
  {
   "cell_type": "markdown",
   "id": "0d8d6ee6",
   "metadata": {
    "papermill": {
     "duration": 0.014853,
     "end_time": "2022-06-01T11:35:09.994094",
     "exception": false,
     "start_time": "2022-06-01T11:35:09.979241",
     "status": "completed"
    },
    "tags": []
   },
   "source": [
    "---\n",
    "\n",
    "\n",
    "\n",
    "\n",
    "*Have questions or comments? Visit the [course discussion forum](https://www.kaggle.com/learn/geospatial-analysis/discussion) to chat with other learners.*"
   ]
  }
 ],
 "metadata": {
  "kernelspec": {
   "display_name": "Python 3",
   "language": "python",
   "name": "python3"
  },
  "language_info": {
   "codemirror_mode": {
    "name": "ipython",
    "version": 3
   },
   "file_extension": ".py",
   "mimetype": "text/x-python",
   "name": "python",
   "nbconvert_exporter": "python",
   "pygments_lexer": "ipython3",
   "version": "3.7.12"
  },
  "papermill": {
   "default_parameters": {},
   "duration": 18.619628,
   "end_time": "2022-06-01T11:35:10.730747",
   "environment_variables": {},
   "exception": null,
   "input_path": "__notebook__.ipynb",
   "output_path": "__notebook__.ipynb",
   "parameters": {},
   "start_time": "2022-06-01T11:34:52.111119",
   "version": "2.3.4"
  }
 },
 "nbformat": 4,
 "nbformat_minor": 5
}
